{
  "nbformat": 4,
  "nbformat_minor": 0,
  "metadata": {
    "colab": {
      "name": "PROYECTO BIG DATA GRUPO 7.ipynb",
      "provenance": [],
      "collapsed_sections": [],
      "toc_visible": true
    },
    "kernelspec": {
      "name": "python3",
      "display_name": "Python 3"
    }
  },
  "cells": [
    {
      "cell_type": "markdown",
      "metadata": {
        "id": "7ArMtzr87JaK",
        "colab_type": "text"
      },
      "source": [
        "# GRUPO 7. BIG DATA. PREDICCIÓN DATOS CALIDAD DEL AIRE Y CLIMATOLÓGICOS\n",
        "---\n",
        "\n"
      ]
    },
    {
      "cell_type": "markdown",
      "metadata": {
        "id": "o5-doKjtBU8p",
        "colab_type": "text"
      },
      "source": [
        "\n"
      ]
    },
    {
      "cell_type": "markdown",
      "metadata": {
        "id": "Ig34oLWq7sBL",
        "colab_type": "text"
      },
      "source": [
        "#  1.Carga de los datos\n"
      ]
    },
    {
      "cell_type": "code",
      "metadata": {
        "id": "B8BFeqAzXKHV",
        "colab_type": "code",
        "colab": {}
      },
      "source": [
        "# Cargamos las librerias que vamos a usar.\n",
        "import pandas as pd\n",
        "import datetime\n",
        "from fbprophet import Prophet\n",
        "import numpy as np\n",
        "import matplotlib.pyplot as plt\n",
        "plt.style.use('fivethirtyeight')\n",
        "%matplotlib inline\n",
        "from scipy.stats import norm\n",
        "from sklearn.preprocessing import MinMaxScaler\n",
        "import seaborn as sns"
      ],
      "execution_count": null,
      "outputs": []
    },
    {
      "cell_type": "code",
      "metadata": {
        "id": "w-9IquXAUAkt",
        "colab_type": "code",
        "colab": {
          "resources": {
            "http://localhost:8080/nbextensions/google.colab/files.js": {
              "data": "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",
              "ok": true,
              "headers": [
                [
                  "content-type",
                  "application/javascript"
                ]
              ],
              "status": 200,
              "status_text": ""
            }
          },
          "base_uri": "https://localhost:8080/",
          "height": 73
        },
        "outputId": "ec4b4e66-e284-4ebf-e2a5-bcff4bec7fca"
      },
      "source": [
        "import pandas as pd\n",
        "from google.colab import files\n",
        "\n",
        "uploaded = files.upload()"
      ],
      "execution_count": null,
      "outputs": [
        {
          "output_type": "display_data",
          "data": {
            "text/html": [
              "\n",
              "     <input type=\"file\" id=\"files-f0575fa6-cf1d-4268-9e73-bc455e6b6aef\" name=\"files[]\" multiple disabled\n",
              "        style=\"border:none\" />\n",
              "     <output id=\"result-f0575fa6-cf1d-4268-9e73-bc455e6b6aef\">\n",
              "      Upload widget is only available when the cell has been executed in the\n",
              "      current browser session. Please rerun this cell to enable.\n",
              "      </output>\n",
              "      <script src=\"/nbextensions/google.colab/files.js\"></script> "
            ],
            "text/plain": [
              "<IPython.core.display.HTML object>"
            ]
          },
          "metadata": {
            "tags": []
          }
        },
        {
          "output_type": "stream",
          "text": [
            "Saving datosdefinitivos.csv to datosdefinitivos.csv\n"
          ],
          "name": "stdout"
        }
      ]
    },
    {
      "cell_type": "code",
      "metadata": {
        "id": "oiV_NeVWURd0",
        "colab_type": "code",
        "colab": {}
      },
      "source": [
        "# Carga dataframe\n",
        "datos_original = pd.read_csv('datosdefinitivos.csv',sep=';')\n"
      ],
      "execution_count": null,
      "outputs": []
    },
    {
      "cell_type": "markdown",
      "metadata": {
        "id": "ZU5IlcnD8qsG",
        "colab_type": "text"
      },
      "source": [
        "**VISUALIZACIÓN DATAFRAME**"
      ]
    },
    {
      "cell_type": "code",
      "metadata": {
        "id": "sEA28F828cvF",
        "colab_type": "code",
        "colab": {
          "base_uri": "https://localhost:8080/",
          "height": 482
        },
        "outputId": "d39c7ecd-016d-4289-dc75-b8b25abbff3e"
      },
      "source": [
        "# Consultamos el dataframe\n",
        "# Magnitud 81: Velocidad_viento ; Magnitud 82: Direccion_viento ; Magnitud 83: Temperatura ;\n",
        "#Magnitud 86: Humedad_relativa ;  Magnitud 87: Presion_atmosferica ;  Magnitud 88: Radiaccion_solar ;\n",
        "#Magnitud 89: Precipitacion\n",
        "datos_original.head()"
      ],
      "execution_count": null,
      "outputs": [
        {
          "output_type": "execute_result",
          "data": {
            "text/html": [
              "<div>\n",
              "<style scoped>\n",
              "    .dataframe tbody tr th:only-of-type {\n",
              "        vertical-align: middle;\n",
              "    }\n",
              "\n",
              "    .dataframe tbody tr th {\n",
              "        vertical-align: top;\n",
              "    }\n",
              "\n",
              "    .dataframe thead th {\n",
              "        text-align: right;\n",
              "    }\n",
              "</style>\n",
              "<table border=\"1\" class=\"dataframe\">\n",
              "  <thead>\n",
              "    <tr style=\"text-align: right;\">\n",
              "      <th></th>\n",
              "      <th>id</th>\n",
              "      <th>id_merge</th>\n",
              "      <th>fechahora</th>\n",
              "      <th>fecha</th>\n",
              "      <th>hora</th>\n",
              "      <th>estacion_real</th>\n",
              "      <th>magnitud</th>\n",
              "      <th>descripcion_magnitud</th>\n",
              "      <th>factor_calculo_horario</th>\n",
              "      <th>ica_parcial</th>\n",
              "      <th>valor_magnitud</th>\n",
              "      <th>provincia</th>\n",
              "      <th>municipio</th>\n",
              "      <th>dia_de_la_semana</th>\n",
              "      <th>valor_magnitud_81</th>\n",
              "      <th>valor_magnitud_82</th>\n",
              "      <th>valor_magnitud_83</th>\n",
              "      <th>valor_magnitud_86</th>\n",
              "      <th>valor_magnitud_87</th>\n",
              "      <th>valor_magnitud_88</th>\n",
              "      <th>valor_magnitud_89</th>\n",
              "    </tr>\n",
              "  </thead>\n",
              "  <tbody>\n",
              "    <tr>\n",
              "      <th>0</th>\n",
              "      <td>2020-1-1-00:00-28102001-1</td>\n",
              "      <td>2020-1-1-00:00-28102001</td>\n",
              "      <td>2020-1-1 00:00</td>\n",
              "      <td>2020-1-1</td>\n",
              "      <td>1</td>\n",
              "      <td>28102001</td>\n",
              "      <td>1</td>\n",
              "      <td>Dióxido de azufre</td>\n",
              "      <td>0.286</td>\n",
              "      <td>0.286</td>\n",
              "      <td>1.0</td>\n",
              "      <td>28</td>\n",
              "      <td>102</td>\n",
              "      <td>2</td>\n",
              "      <td>1.1</td>\n",
              "      <td>15.0</td>\n",
              "      <td>2.7</td>\n",
              "      <td>86.0</td>\n",
              "      <td>946.0</td>\n",
              "      <td>12.0</td>\n",
              "      <td>0.0</td>\n",
              "    </tr>\n",
              "    <tr>\n",
              "      <th>1</th>\n",
              "      <td>2020-1-1-00:00-28102001-6</td>\n",
              "      <td>2020-1-1-00:00-28102001</td>\n",
              "      <td>2020-1-1 00:00</td>\n",
              "      <td>2020-1-1</td>\n",
              "      <td>1</td>\n",
              "      <td>28102001</td>\n",
              "      <td>6</td>\n",
              "      <td>Monóxido de carbono</td>\n",
              "      <td>10.000</td>\n",
              "      <td>3.000</td>\n",
              "      <td>0.3</td>\n",
              "      <td>28</td>\n",
              "      <td>102</td>\n",
              "      <td>2</td>\n",
              "      <td>1.1</td>\n",
              "      <td>15.0</td>\n",
              "      <td>2.7</td>\n",
              "      <td>86.0</td>\n",
              "      <td>946.0</td>\n",
              "      <td>12.0</td>\n",
              "      <td>0.0</td>\n",
              "    </tr>\n",
              "    <tr>\n",
              "      <th>2</th>\n",
              "      <td>2020-1-1-00:00-28102001-8</td>\n",
              "      <td>2020-1-1-00:00-28102001</td>\n",
              "      <td>2020-1-1 00:00</td>\n",
              "      <td>2020-1-1</td>\n",
              "      <td>1</td>\n",
              "      <td>28102001</td>\n",
              "      <td>8</td>\n",
              "      <td>Dióxido de nitrógeno</td>\n",
              "      <td>0.500</td>\n",
              "      <td>4.000</td>\n",
              "      <td>8.0</td>\n",
              "      <td>28</td>\n",
              "      <td>102</td>\n",
              "      <td>2</td>\n",
              "      <td>1.1</td>\n",
              "      <td>15.0</td>\n",
              "      <td>2.7</td>\n",
              "      <td>86.0</td>\n",
              "      <td>946.0</td>\n",
              "      <td>12.0</td>\n",
              "      <td>0.0</td>\n",
              "    </tr>\n",
              "    <tr>\n",
              "      <th>3</th>\n",
              "      <td>2020-1-1-00:00-28102001-10</td>\n",
              "      <td>2020-1-1-00:00-28102001</td>\n",
              "      <td>2020-1-1 00:00</td>\n",
              "      <td>2020-1-1</td>\n",
              "      <td>1</td>\n",
              "      <td>28102001</td>\n",
              "      <td>10</td>\n",
              "      <td>Partículas en suspensión &lt; PM10</td>\n",
              "      <td>0.667</td>\n",
              "      <td>5.336</td>\n",
              "      <td>8.0</td>\n",
              "      <td>28</td>\n",
              "      <td>102</td>\n",
              "      <td>2</td>\n",
              "      <td>1.1</td>\n",
              "      <td>15.0</td>\n",
              "      <td>2.7</td>\n",
              "      <td>86.0</td>\n",
              "      <td>946.0</td>\n",
              "      <td>12.0</td>\n",
              "      <td>0.0</td>\n",
              "    </tr>\n",
              "    <tr>\n",
              "      <th>4</th>\n",
              "      <td>2020-1-1-00:00-28102001-14</td>\n",
              "      <td>2020-1-1-00:00-28102001</td>\n",
              "      <td>2020-1-1 00:00</td>\n",
              "      <td>2020-1-1</td>\n",
              "      <td>1</td>\n",
              "      <td>28102001</td>\n",
              "      <td>14</td>\n",
              "      <td>Ozono</td>\n",
              "      <td>0.556</td>\n",
              "      <td>21.684</td>\n",
              "      <td>39.0</td>\n",
              "      <td>28</td>\n",
              "      <td>102</td>\n",
              "      <td>2</td>\n",
              "      <td>1.1</td>\n",
              "      <td>15.0</td>\n",
              "      <td>2.7</td>\n",
              "      <td>86.0</td>\n",
              "      <td>946.0</td>\n",
              "      <td>12.0</td>\n",
              "      <td>0.0</td>\n",
              "    </tr>\n",
              "  </tbody>\n",
              "</table>\n",
              "</div>"
            ],
            "text/plain": [
              "                           id  ... valor_magnitud_89\n",
              "0   2020-1-1-00:00-28102001-1  ...               0.0\n",
              "1   2020-1-1-00:00-28102001-6  ...               0.0\n",
              "2   2020-1-1-00:00-28102001-8  ...               0.0\n",
              "3  2020-1-1-00:00-28102001-10  ...               0.0\n",
              "4  2020-1-1-00:00-28102001-14  ...               0.0\n",
              "\n",
              "[5 rows x 21 columns]"
            ]
          },
          "metadata": {
            "tags": []
          },
          "execution_count": 5
        }
      ]
    },
    {
      "cell_type": "code",
      "metadata": {
        "id": "5XbcCd7W86BK",
        "colab_type": "code",
        "colab": {
          "base_uri": "https://localhost:8080/",
          "height": 314
        },
        "outputId": "6fe8a5b5-9c11-4a91-b83c-9407abfaab62"
      },
      "source": [
        "# Consultamos datos estadísticos comunes.\n",
        "datos_original.describe()"
      ],
      "execution_count": null,
      "outputs": [
        {
          "output_type": "execute_result",
          "data": {
            "text/html": [
              "<div>\n",
              "<style scoped>\n",
              "    .dataframe tbody tr th:only-of-type {\n",
              "        vertical-align: middle;\n",
              "    }\n",
              "\n",
              "    .dataframe tbody tr th {\n",
              "        vertical-align: top;\n",
              "    }\n",
              "\n",
              "    .dataframe thead th {\n",
              "        text-align: right;\n",
              "    }\n",
              "</style>\n",
              "<table border=\"1\" class=\"dataframe\">\n",
              "  <thead>\n",
              "    <tr style=\"text-align: right;\">\n",
              "      <th></th>\n",
              "      <th>hora</th>\n",
              "      <th>estacion_real</th>\n",
              "      <th>magnitud</th>\n",
              "      <th>factor_calculo_horario</th>\n",
              "      <th>ica_parcial</th>\n",
              "      <th>valor_magnitud</th>\n",
              "      <th>provincia</th>\n",
              "      <th>municipio</th>\n",
              "      <th>dia_de_la_semana</th>\n",
              "      <th>valor_magnitud_81</th>\n",
              "      <th>valor_magnitud_82</th>\n",
              "      <th>valor_magnitud_83</th>\n",
              "      <th>valor_magnitud_86</th>\n",
              "      <th>valor_magnitud_87</th>\n",
              "      <th>valor_magnitud_88</th>\n",
              "      <th>valor_magnitud_89</th>\n",
              "    </tr>\n",
              "  </thead>\n",
              "  <tbody>\n",
              "    <tr>\n",
              "      <th>count</th>\n",
              "      <td>306745.000000</td>\n",
              "      <td>3.067450e+05</td>\n",
              "      <td>306745.000000</td>\n",
              "      <td>306745.000000</td>\n",
              "      <td>306745.000000</td>\n",
              "      <td>306745.000000</td>\n",
              "      <td>306745.0</td>\n",
              "      <td>306745.000000</td>\n",
              "      <td>306745.000000</td>\n",
              "      <td>306745.000000</td>\n",
              "      <td>306745.000000</td>\n",
              "      <td>306745.000000</td>\n",
              "      <td>306745.000000</td>\n",
              "      <td>306745.000000</td>\n",
              "      <td>306745.000000</td>\n",
              "      <td>306745.000000</td>\n",
              "    </tr>\n",
              "    <tr>\n",
              "      <th>mean</th>\n",
              "      <td>12.526212</td>\n",
              "      <td>2.807419e+07</td>\n",
              "      <td>9.553711</td>\n",
              "      <td>1.309927</td>\n",
              "      <td>14.641647</td>\n",
              "      <td>25.458674</td>\n",
              "      <td>28.0</td>\n",
              "      <td>74.179915</td>\n",
              "      <td>3.050710</td>\n",
              "      <td>1.765884</td>\n",
              "      <td>171.096181</td>\n",
              "      <td>11.290017</td>\n",
              "      <td>68.078267</td>\n",
              "      <td>937.273299</td>\n",
              "      <td>168.820092</td>\n",
              "      <td>0.058763</td>\n",
              "    </tr>\n",
              "    <tr>\n",
              "      <th>std</th>\n",
              "      <td>6.951550</td>\n",
              "      <td>5.199164e+04</td>\n",
              "      <td>3.699688</td>\n",
              "      <td>2.585036</td>\n",
              "      <td>15.616766</td>\n",
              "      <td>28.260308</td>\n",
              "      <td>0.0</td>\n",
              "      <td>51.991653</td>\n",
              "      <td>1.990645</td>\n",
              "      <td>1.459266</td>\n",
              "      <td>90.260191</td>\n",
              "      <td>6.490674</td>\n",
              "      <td>21.489816</td>\n",
              "      <td>29.144508</td>\n",
              "      <td>259.937053</td>\n",
              "      <td>0.424088</td>\n",
              "    </tr>\n",
              "    <tr>\n",
              "      <th>min</th>\n",
              "      <td>1.000000</td>\n",
              "      <td>2.800500e+07</td>\n",
              "      <td>1.000000</td>\n",
              "      <td>0.286000</td>\n",
              "      <td>0.286000</td>\n",
              "      <td>0.100000</td>\n",
              "      <td>28.0</td>\n",
              "      <td>5.000000</td>\n",
              "      <td>0.000000</td>\n",
              "      <td>0.000000</td>\n",
              "      <td>0.000000</td>\n",
              "      <td>-9.700000</td>\n",
              "      <td>7.000000</td>\n",
              "      <td>782.000000</td>\n",
              "      <td>0.000000</td>\n",
              "      <td>0.000000</td>\n",
              "    </tr>\n",
              "    <tr>\n",
              "      <th>25%</th>\n",
              "      <td>6.000000</td>\n",
              "      <td>2.801600e+07</td>\n",
              "      <td>8.000000</td>\n",
              "      <td>0.500000</td>\n",
              "      <td>2.668000</td>\n",
              "      <td>3.000000</td>\n",
              "      <td>28.0</td>\n",
              "      <td>16.000000</td>\n",
              "      <td>1.000000</td>\n",
              "      <td>0.700000</td>\n",
              "      <td>91.000000</td>\n",
              "      <td>6.900000</td>\n",
              "      <td>52.000000</td>\n",
              "      <td>929.000000</td>\n",
              "      <td>1.000000</td>\n",
              "      <td>0.000000</td>\n",
              "    </tr>\n",
              "    <tr>\n",
              "      <th>50%</th>\n",
              "      <td>13.000000</td>\n",
              "      <td>2.807401e+07</td>\n",
              "      <td>10.000000</td>\n",
              "      <td>0.556000</td>\n",
              "      <td>8.000000</td>\n",
              "      <td>13.000000</td>\n",
              "      <td>28.0</td>\n",
              "      <td>74.000000</td>\n",
              "      <td>3.000000</td>\n",
              "      <td>1.400000</td>\n",
              "      <td>173.000000</td>\n",
              "      <td>10.600000</td>\n",
              "      <td>70.000000</td>\n",
              "      <td>944.000000</td>\n",
              "      <td>12.000000</td>\n",
              "      <td>0.000000</td>\n",
              "    </tr>\n",
              "    <tr>\n",
              "      <th>75%</th>\n",
              "      <td>19.000000</td>\n",
              "      <td>2.810200e+07</td>\n",
              "      <td>14.000000</td>\n",
              "      <td>0.667000</td>\n",
              "      <td>24.000000</td>\n",
              "      <td>43.000000</td>\n",
              "      <td>28.0</td>\n",
              "      <td>102.000000</td>\n",
              "      <td>5.000000</td>\n",
              "      <td>2.400000</td>\n",
              "      <td>242.000000</td>\n",
              "      <td>14.900000</td>\n",
              "      <td>86.000000</td>\n",
              "      <td>954.000000</td>\n",
              "      <td>267.000000</td>\n",
              "      <td>0.000000</td>\n",
              "    </tr>\n",
              "    <tr>\n",
              "      <th>max</th>\n",
              "      <td>24.000000</td>\n",
              "      <td>2.818000e+07</td>\n",
              "      <td>14.000000</td>\n",
              "      <td>10.000000</td>\n",
              "      <td>259.463000</td>\n",
              "      <td>389.000000</td>\n",
              "      <td>28.0</td>\n",
              "      <td>180.000000</td>\n",
              "      <td>6.000000</td>\n",
              "      <td>13.900000</td>\n",
              "      <td>360.000000</td>\n",
              "      <td>36.700000</td>\n",
              "      <td>100.000000</td>\n",
              "      <td>1017.000000</td>\n",
              "      <td>1435.000000</td>\n",
              "      <td>21.000000</td>\n",
              "    </tr>\n",
              "  </tbody>\n",
              "</table>\n",
              "</div>"
            ],
            "text/plain": [
              "                hora  estacion_real  ...  valor_magnitud_88  valor_magnitud_89\n",
              "count  306745.000000   3.067450e+05  ...      306745.000000      306745.000000\n",
              "mean       12.526212   2.807419e+07  ...         168.820092           0.058763\n",
              "std         6.951550   5.199164e+04  ...         259.937053           0.424088\n",
              "min         1.000000   2.800500e+07  ...           0.000000           0.000000\n",
              "25%         6.000000   2.801600e+07  ...           1.000000           0.000000\n",
              "50%        13.000000   2.807401e+07  ...          12.000000           0.000000\n",
              "75%        19.000000   2.810200e+07  ...         267.000000           0.000000\n",
              "max        24.000000   2.818000e+07  ...        1435.000000          21.000000\n",
              "\n",
              "[8 rows x 16 columns]"
            ]
          },
          "metadata": {
            "tags": []
          },
          "execution_count": 6
        }
      ]
    },
    {
      "cell_type": "code",
      "metadata": {
        "id": "QiURgK9RL6ID",
        "colab_type": "code",
        "colab": {
          "base_uri": "https://localhost:8080/",
          "height": 503
        },
        "outputId": "060759c2-eeab-4a70-e539-40f943c79a0d"
      },
      "source": [
        "# Consultamos la informacion del dataframe\n",
        "datos_original.info()"
      ],
      "execution_count": null,
      "outputs": [
        {
          "output_type": "stream",
          "text": [
            "<class 'pandas.core.frame.DataFrame'>\n",
            "RangeIndex: 306745 entries, 0 to 306744\n",
            "Data columns (total 21 columns):\n",
            " #   Column                  Non-Null Count   Dtype  \n",
            "---  ------                  --------------   -----  \n",
            " 0   id                      306745 non-null  object \n",
            " 1   id_merge                306745 non-null  object \n",
            " 2   fechahora               306745 non-null  object \n",
            " 3   fecha                   306745 non-null  object \n",
            " 4   hora                    306745 non-null  int64  \n",
            " 5   estacion_real           306745 non-null  int64  \n",
            " 6   magnitud                306745 non-null  int64  \n",
            " 7   descripcion_magnitud    306745 non-null  object \n",
            " 8   factor_calculo_horario  306745 non-null  float64\n",
            " 9   ica_parcial             306745 non-null  float64\n",
            " 10  valor_magnitud          306745 non-null  float64\n",
            " 11  provincia               306745 non-null  int64  \n",
            " 12  municipio               306745 non-null  int64  \n",
            " 13  dia_de_la_semana        306745 non-null  int64  \n",
            " 14  valor_magnitud_81       306745 non-null  float64\n",
            " 15  valor_magnitud_82       306745 non-null  float64\n",
            " 16  valor_magnitud_83       306745 non-null  float64\n",
            " 17  valor_magnitud_86       306745 non-null  float64\n",
            " 18  valor_magnitud_87       306745 non-null  float64\n",
            " 19  valor_magnitud_88       306745 non-null  float64\n",
            " 20  valor_magnitud_89       306745 non-null  float64\n",
            "dtypes: float64(10), int64(6), object(5)\n",
            "memory usage: 49.1+ MB\n"
          ],
          "name": "stdout"
        }
      ]
    },
    {
      "cell_type": "code",
      "metadata": {
        "id": "_IjsdKoVKYBy",
        "colab_type": "code",
        "colab": {
          "base_uri": "https://localhost:8080/",
          "height": 139
        },
        "outputId": "56c1ada6-87ec-459d-957d-182081d0f19a"
      },
      "source": [
        "# Consultamos las columnas.\n",
        "datos_original.columns"
      ],
      "execution_count": null,
      "outputs": [
        {
          "output_type": "execute_result",
          "data": {
            "text/plain": [
              "Index(['id', 'id_merge', 'fechahora', 'fecha', 'hora', 'estacion_real',\n",
              "       'magnitud', 'descripcion_magnitud', 'factor_calculo_horario',\n",
              "       'ica_parcial', 'valor_magnitud', 'provincia', 'municipio',\n",
              "       'dia_de_la_semana', 'valor_magnitud_81', 'valor_magnitud_82',\n",
              "       'valor_magnitud_83', 'valor_magnitud_86', 'valor_magnitud_87',\n",
              "       'valor_magnitud_88', 'valor_magnitud_89'],\n",
              "      dtype='object')"
            ]
          },
          "metadata": {
            "tags": []
          },
          "execution_count": 8
        }
      ]
    },
    {
      "cell_type": "code",
      "metadata": {
        "id": "SVnwvdD2MEn-",
        "colab_type": "code",
        "colab": {
          "base_uri": "https://localhost:8080/",
          "height": 482
        },
        "outputId": "7299f7d6-f001-4434-9d1e-2dc0c68f4b2d"
      },
      "source": [
        "# Renombramos columnas magnitudes\n",
        "datos_original = datos_original.rename(columns={\"valor_magnitud_81\": \"Velocidad_viento\", \"valor_magnitud_82\": \"Direccion_viento\", \"valor_magnitud_83\": \"Temperatura\", \"valor_magnitud_86\": \"Humedad_relativa\", \"valor_magnitud_87\": \"Presion_atmosferica\", \"valor_magnitud_88\": \"Radiaccion_solar\", \"valor_magnitud_89\": \"Precipitacion\"})\n",
        "datos_original.head()"
      ],
      "execution_count": null,
      "outputs": [
        {
          "output_type": "execute_result",
          "data": {
            "text/html": [
              "<div>\n",
              "<style scoped>\n",
              "    .dataframe tbody tr th:only-of-type {\n",
              "        vertical-align: middle;\n",
              "    }\n",
              "\n",
              "    .dataframe tbody tr th {\n",
              "        vertical-align: top;\n",
              "    }\n",
              "\n",
              "    .dataframe thead th {\n",
              "        text-align: right;\n",
              "    }\n",
              "</style>\n",
              "<table border=\"1\" class=\"dataframe\">\n",
              "  <thead>\n",
              "    <tr style=\"text-align: right;\">\n",
              "      <th></th>\n",
              "      <th>id</th>\n",
              "      <th>id_merge</th>\n",
              "      <th>fechahora</th>\n",
              "      <th>fecha</th>\n",
              "      <th>hora</th>\n",
              "      <th>estacion_real</th>\n",
              "      <th>magnitud</th>\n",
              "      <th>descripcion_magnitud</th>\n",
              "      <th>factor_calculo_horario</th>\n",
              "      <th>ica_parcial</th>\n",
              "      <th>valor_magnitud</th>\n",
              "      <th>provincia</th>\n",
              "      <th>municipio</th>\n",
              "      <th>dia_de_la_semana</th>\n",
              "      <th>Velocidad_viento</th>\n",
              "      <th>Direccion_viento</th>\n",
              "      <th>Temperatura</th>\n",
              "      <th>Humedad_relativa</th>\n",
              "      <th>Presion_atmosferica</th>\n",
              "      <th>Radiaccion_solar</th>\n",
              "      <th>Precipitacion</th>\n",
              "    </tr>\n",
              "  </thead>\n",
              "  <tbody>\n",
              "    <tr>\n",
              "      <th>0</th>\n",
              "      <td>2020-1-1-00:00-28102001-1</td>\n",
              "      <td>2020-1-1-00:00-28102001</td>\n",
              "      <td>2020-1-1 00:00</td>\n",
              "      <td>2020-1-1</td>\n",
              "      <td>1</td>\n",
              "      <td>28102001</td>\n",
              "      <td>1</td>\n",
              "      <td>Dióxido de azufre</td>\n",
              "      <td>0.286</td>\n",
              "      <td>0.286</td>\n",
              "      <td>1.0</td>\n",
              "      <td>28</td>\n",
              "      <td>102</td>\n",
              "      <td>2</td>\n",
              "      <td>1.1</td>\n",
              "      <td>15.0</td>\n",
              "      <td>2.7</td>\n",
              "      <td>86.0</td>\n",
              "      <td>946.0</td>\n",
              "      <td>12.0</td>\n",
              "      <td>0.0</td>\n",
              "    </tr>\n",
              "    <tr>\n",
              "      <th>1</th>\n",
              "      <td>2020-1-1-00:00-28102001-6</td>\n",
              "      <td>2020-1-1-00:00-28102001</td>\n",
              "      <td>2020-1-1 00:00</td>\n",
              "      <td>2020-1-1</td>\n",
              "      <td>1</td>\n",
              "      <td>28102001</td>\n",
              "      <td>6</td>\n",
              "      <td>Monóxido de carbono</td>\n",
              "      <td>10.000</td>\n",
              "      <td>3.000</td>\n",
              "      <td>0.3</td>\n",
              "      <td>28</td>\n",
              "      <td>102</td>\n",
              "      <td>2</td>\n",
              "      <td>1.1</td>\n",
              "      <td>15.0</td>\n",
              "      <td>2.7</td>\n",
              "      <td>86.0</td>\n",
              "      <td>946.0</td>\n",
              "      <td>12.0</td>\n",
              "      <td>0.0</td>\n",
              "    </tr>\n",
              "    <tr>\n",
              "      <th>2</th>\n",
              "      <td>2020-1-1-00:00-28102001-8</td>\n",
              "      <td>2020-1-1-00:00-28102001</td>\n",
              "      <td>2020-1-1 00:00</td>\n",
              "      <td>2020-1-1</td>\n",
              "      <td>1</td>\n",
              "      <td>28102001</td>\n",
              "      <td>8</td>\n",
              "      <td>Dióxido de nitrógeno</td>\n",
              "      <td>0.500</td>\n",
              "      <td>4.000</td>\n",
              "      <td>8.0</td>\n",
              "      <td>28</td>\n",
              "      <td>102</td>\n",
              "      <td>2</td>\n",
              "      <td>1.1</td>\n",
              "      <td>15.0</td>\n",
              "      <td>2.7</td>\n",
              "      <td>86.0</td>\n",
              "      <td>946.0</td>\n",
              "      <td>12.0</td>\n",
              "      <td>0.0</td>\n",
              "    </tr>\n",
              "    <tr>\n",
              "      <th>3</th>\n",
              "      <td>2020-1-1-00:00-28102001-10</td>\n",
              "      <td>2020-1-1-00:00-28102001</td>\n",
              "      <td>2020-1-1 00:00</td>\n",
              "      <td>2020-1-1</td>\n",
              "      <td>1</td>\n",
              "      <td>28102001</td>\n",
              "      <td>10</td>\n",
              "      <td>Partículas en suspensión &lt; PM10</td>\n",
              "      <td>0.667</td>\n",
              "      <td>5.336</td>\n",
              "      <td>8.0</td>\n",
              "      <td>28</td>\n",
              "      <td>102</td>\n",
              "      <td>2</td>\n",
              "      <td>1.1</td>\n",
              "      <td>15.0</td>\n",
              "      <td>2.7</td>\n",
              "      <td>86.0</td>\n",
              "      <td>946.0</td>\n",
              "      <td>12.0</td>\n",
              "      <td>0.0</td>\n",
              "    </tr>\n",
              "    <tr>\n",
              "      <th>4</th>\n",
              "      <td>2020-1-1-00:00-28102001-14</td>\n",
              "      <td>2020-1-1-00:00-28102001</td>\n",
              "      <td>2020-1-1 00:00</td>\n",
              "      <td>2020-1-1</td>\n",
              "      <td>1</td>\n",
              "      <td>28102001</td>\n",
              "      <td>14</td>\n",
              "      <td>Ozono</td>\n",
              "      <td>0.556</td>\n",
              "      <td>21.684</td>\n",
              "      <td>39.0</td>\n",
              "      <td>28</td>\n",
              "      <td>102</td>\n",
              "      <td>2</td>\n",
              "      <td>1.1</td>\n",
              "      <td>15.0</td>\n",
              "      <td>2.7</td>\n",
              "      <td>86.0</td>\n",
              "      <td>946.0</td>\n",
              "      <td>12.0</td>\n",
              "      <td>0.0</td>\n",
              "    </tr>\n",
              "  </tbody>\n",
              "</table>\n",
              "</div>"
            ],
            "text/plain": [
              "                           id  ... Precipitacion\n",
              "0   2020-1-1-00:00-28102001-1  ...           0.0\n",
              "1   2020-1-1-00:00-28102001-6  ...           0.0\n",
              "2   2020-1-1-00:00-28102001-8  ...           0.0\n",
              "3  2020-1-1-00:00-28102001-10  ...           0.0\n",
              "4  2020-1-1-00:00-28102001-14  ...           0.0\n",
              "\n",
              "[5 rows x 21 columns]"
            ]
          },
          "metadata": {
            "tags": []
          },
          "execution_count": 9
        }
      ]
    },
    {
      "cell_type": "code",
      "metadata": {
        "id": "Cs7uTsW79qFB",
        "colab_type": "code",
        "colab": {
          "base_uri": "https://localhost:8080/",
          "height": 399
        },
        "outputId": "6404738b-ce07-4685-9025-d6441c465343"
      },
      "source": [
        "# Consultamos el tipo de datos de cada columna.\n",
        "datos_original.dtypes"
      ],
      "execution_count": null,
      "outputs": [
        {
          "output_type": "execute_result",
          "data": {
            "text/plain": [
              "id                         object\n",
              "id_merge                   object\n",
              "fechahora                  object\n",
              "fecha                      object\n",
              "hora                        int64\n",
              "estacion_real               int64\n",
              "magnitud                    int64\n",
              "descripcion_magnitud       object\n",
              "factor_calculo_horario    float64\n",
              "ica_parcial               float64\n",
              "valor_magnitud            float64\n",
              "provincia                   int64\n",
              "municipio                   int64\n",
              "dia_de_la_semana            int64\n",
              "Velocidad_viento          float64\n",
              "Direccion_viento          float64\n",
              "Temperatura               float64\n",
              "Humedad_relativa          float64\n",
              "Presion_atmosferica       float64\n",
              "Radiaccion_solar          float64\n",
              "Precipitacion             float64\n",
              "dtype: object"
            ]
          },
          "metadata": {
            "tags": []
          },
          "execution_count": 10
        }
      ]
    },
    {
      "cell_type": "code",
      "metadata": {
        "id": "nh7diHL592kF",
        "colab_type": "code",
        "colab": {
          "base_uri": "https://localhost:8080/",
          "height": 399
        },
        "outputId": "7f6d4658-1201-45ad-8d59-f0c242dea408"
      },
      "source": [
        "#Consultamos Valores faltantes\n",
        "datos_original.isnull().sum()\n"
      ],
      "execution_count": null,
      "outputs": [
        {
          "output_type": "execute_result",
          "data": {
            "text/plain": [
              "id                        0\n",
              "id_merge                  0\n",
              "fechahora                 0\n",
              "fecha                     0\n",
              "hora                      0\n",
              "estacion_real             0\n",
              "magnitud                  0\n",
              "descripcion_magnitud      0\n",
              "factor_calculo_horario    0\n",
              "ica_parcial               0\n",
              "valor_magnitud            0\n",
              "provincia                 0\n",
              "municipio                 0\n",
              "dia_de_la_semana          0\n",
              "Velocidad_viento          0\n",
              "Direccion_viento          0\n",
              "Temperatura               0\n",
              "Humedad_relativa          0\n",
              "Presion_atmosferica       0\n",
              "Radiaccion_solar          0\n",
              "Precipitacion             0\n",
              "dtype: int64"
            ]
          },
          "metadata": {
            "tags": []
          },
          "execution_count": 11
        }
      ]
    },
    {
      "cell_type": "markdown",
      "metadata": {
        "id": "HoEl7_1UD-te",
        "colab_type": "text"
      },
      "source": [
        "# Nueva sección"
      ]
    },
    {
      "cell_type": "markdown",
      "metadata": {
        "id": "1x89IQoJD_HX",
        "colab_type": "text"
      },
      "source": [
        "# Nueva sección"
      ]
    },
    {
      "cell_type": "code",
      "metadata": {
        "id": "06QV2uvb4x5C",
        "colab_type": "code",
        "colab": {
          "base_uri": "https://localhost:8080/",
          "height": 399
        },
        "outputId": "caa48cc3-58d9-4e3d-c2a1-71000d78a3d6"
      },
      "source": [
        "#Eliminamos valores Nulos\n",
        "datos_filtrados = datos_original.dropna()\n",
        "datos_filtrados.isnull().sum()\n"
      ],
      "execution_count": null,
      "outputs": [
        {
          "output_type": "execute_result",
          "data": {
            "text/plain": [
              "id                        0\n",
              "id_merge                  0\n",
              "fechahora                 0\n",
              "fecha                     0\n",
              "hora                      0\n",
              "estacion_real             0\n",
              "magnitud                  0\n",
              "descripcion_magnitud      0\n",
              "factor_calculo_horario    0\n",
              "ica_parcial               0\n",
              "valor_magnitud            0\n",
              "provincia                 0\n",
              "municipio                 0\n",
              "dia_de_la_semana          0\n",
              "Velocidad_viento          0\n",
              "Direccion_viento          0\n",
              "Temperatura               0\n",
              "Humedad_relativa          0\n",
              "Presion_atmosferica       0\n",
              "Radiaccion_solar          0\n",
              "Precipitacion             0\n",
              "dtype: int64"
            ]
          },
          "metadata": {
            "tags": []
          },
          "execution_count": 12
        }
      ]
    },
    {
      "cell_type": "code",
      "metadata": {
        "id": "zFofXc7HUnlr",
        "colab_type": "code",
        "colab": {}
      },
      "source": [
        "datos_filtrados.loc[:, (datos_filtrados == 0).all()]\n",
        "datos_filtrados =datos_filtrados[datos_filtrados['ica_parcial'] !=0]"
      ],
      "execution_count": null,
      "outputs": []
    },
    {
      "cell_type": "code",
      "metadata": {
        "id": "MEP8pc6TcKyd",
        "colab_type": "code",
        "colab": {
          "base_uri": "https://localhost:8080/",
          "height": 482
        },
        "outputId": "a9b2e879-7be8-4f09-de98-3c61cbe35a59"
      },
      "source": [
        "datos_filtrados.head()"
      ],
      "execution_count": null,
      "outputs": [
        {
          "output_type": "execute_result",
          "data": {
            "text/html": [
              "<div>\n",
              "<style scoped>\n",
              "    .dataframe tbody tr th:only-of-type {\n",
              "        vertical-align: middle;\n",
              "    }\n",
              "\n",
              "    .dataframe tbody tr th {\n",
              "        vertical-align: top;\n",
              "    }\n",
              "\n",
              "    .dataframe thead th {\n",
              "        text-align: right;\n",
              "    }\n",
              "</style>\n",
              "<table border=\"1\" class=\"dataframe\">\n",
              "  <thead>\n",
              "    <tr style=\"text-align: right;\">\n",
              "      <th></th>\n",
              "      <th>id</th>\n",
              "      <th>id_merge</th>\n",
              "      <th>fechahora</th>\n",
              "      <th>fecha</th>\n",
              "      <th>hora</th>\n",
              "      <th>estacion_real</th>\n",
              "      <th>magnitud</th>\n",
              "      <th>descripcion_magnitud</th>\n",
              "      <th>factor_calculo_horario</th>\n",
              "      <th>ica_parcial</th>\n",
              "      <th>valor_magnitud</th>\n",
              "      <th>provincia</th>\n",
              "      <th>municipio</th>\n",
              "      <th>dia_de_la_semana</th>\n",
              "      <th>Velocidad_viento</th>\n",
              "      <th>Direccion_viento</th>\n",
              "      <th>Temperatura</th>\n",
              "      <th>Humedad_relativa</th>\n",
              "      <th>Presion_atmosferica</th>\n",
              "      <th>Radiaccion_solar</th>\n",
              "      <th>Precipitacion</th>\n",
              "    </tr>\n",
              "  </thead>\n",
              "  <tbody>\n",
              "    <tr>\n",
              "      <th>0</th>\n",
              "      <td>2020-1-1-00:00-28102001-1</td>\n",
              "      <td>2020-1-1-00:00-28102001</td>\n",
              "      <td>2020-1-1 00:00</td>\n",
              "      <td>2020-1-1</td>\n",
              "      <td>1</td>\n",
              "      <td>28102001</td>\n",
              "      <td>1</td>\n",
              "      <td>Dióxido de azufre</td>\n",
              "      <td>0.286</td>\n",
              "      <td>0.286</td>\n",
              "      <td>1.0</td>\n",
              "      <td>28</td>\n",
              "      <td>102</td>\n",
              "      <td>2</td>\n",
              "      <td>1.1</td>\n",
              "      <td>15.0</td>\n",
              "      <td>2.7</td>\n",
              "      <td>86.0</td>\n",
              "      <td>946.0</td>\n",
              "      <td>12.0</td>\n",
              "      <td>0.0</td>\n",
              "    </tr>\n",
              "    <tr>\n",
              "      <th>1</th>\n",
              "      <td>2020-1-1-00:00-28102001-6</td>\n",
              "      <td>2020-1-1-00:00-28102001</td>\n",
              "      <td>2020-1-1 00:00</td>\n",
              "      <td>2020-1-1</td>\n",
              "      <td>1</td>\n",
              "      <td>28102001</td>\n",
              "      <td>6</td>\n",
              "      <td>Monóxido de carbono</td>\n",
              "      <td>10.000</td>\n",
              "      <td>3.000</td>\n",
              "      <td>0.3</td>\n",
              "      <td>28</td>\n",
              "      <td>102</td>\n",
              "      <td>2</td>\n",
              "      <td>1.1</td>\n",
              "      <td>15.0</td>\n",
              "      <td>2.7</td>\n",
              "      <td>86.0</td>\n",
              "      <td>946.0</td>\n",
              "      <td>12.0</td>\n",
              "      <td>0.0</td>\n",
              "    </tr>\n",
              "    <tr>\n",
              "      <th>2</th>\n",
              "      <td>2020-1-1-00:00-28102001-8</td>\n",
              "      <td>2020-1-1-00:00-28102001</td>\n",
              "      <td>2020-1-1 00:00</td>\n",
              "      <td>2020-1-1</td>\n",
              "      <td>1</td>\n",
              "      <td>28102001</td>\n",
              "      <td>8</td>\n",
              "      <td>Dióxido de nitrógeno</td>\n",
              "      <td>0.500</td>\n",
              "      <td>4.000</td>\n",
              "      <td>8.0</td>\n",
              "      <td>28</td>\n",
              "      <td>102</td>\n",
              "      <td>2</td>\n",
              "      <td>1.1</td>\n",
              "      <td>15.0</td>\n",
              "      <td>2.7</td>\n",
              "      <td>86.0</td>\n",
              "      <td>946.0</td>\n",
              "      <td>12.0</td>\n",
              "      <td>0.0</td>\n",
              "    </tr>\n",
              "    <tr>\n",
              "      <th>3</th>\n",
              "      <td>2020-1-1-00:00-28102001-10</td>\n",
              "      <td>2020-1-1-00:00-28102001</td>\n",
              "      <td>2020-1-1 00:00</td>\n",
              "      <td>2020-1-1</td>\n",
              "      <td>1</td>\n",
              "      <td>28102001</td>\n",
              "      <td>10</td>\n",
              "      <td>Partículas en suspensión &lt; PM10</td>\n",
              "      <td>0.667</td>\n",
              "      <td>5.336</td>\n",
              "      <td>8.0</td>\n",
              "      <td>28</td>\n",
              "      <td>102</td>\n",
              "      <td>2</td>\n",
              "      <td>1.1</td>\n",
              "      <td>15.0</td>\n",
              "      <td>2.7</td>\n",
              "      <td>86.0</td>\n",
              "      <td>946.0</td>\n",
              "      <td>12.0</td>\n",
              "      <td>0.0</td>\n",
              "    </tr>\n",
              "    <tr>\n",
              "      <th>4</th>\n",
              "      <td>2020-1-1-00:00-28102001-14</td>\n",
              "      <td>2020-1-1-00:00-28102001</td>\n",
              "      <td>2020-1-1 00:00</td>\n",
              "      <td>2020-1-1</td>\n",
              "      <td>1</td>\n",
              "      <td>28102001</td>\n",
              "      <td>14</td>\n",
              "      <td>Ozono</td>\n",
              "      <td>0.556</td>\n",
              "      <td>21.684</td>\n",
              "      <td>39.0</td>\n",
              "      <td>28</td>\n",
              "      <td>102</td>\n",
              "      <td>2</td>\n",
              "      <td>1.1</td>\n",
              "      <td>15.0</td>\n",
              "      <td>2.7</td>\n",
              "      <td>86.0</td>\n",
              "      <td>946.0</td>\n",
              "      <td>12.0</td>\n",
              "      <td>0.0</td>\n",
              "    </tr>\n",
              "  </tbody>\n",
              "</table>\n",
              "</div>"
            ],
            "text/plain": [
              "                           id  ... Precipitacion\n",
              "0   2020-1-1-00:00-28102001-1  ...           0.0\n",
              "1   2020-1-1-00:00-28102001-6  ...           0.0\n",
              "2   2020-1-1-00:00-28102001-8  ...           0.0\n",
              "3  2020-1-1-00:00-28102001-10  ...           0.0\n",
              "4  2020-1-1-00:00-28102001-14  ...           0.0\n",
              "\n",
              "[5 rows x 21 columns]"
            ]
          },
          "metadata": {
            "tags": []
          },
          "execution_count": 14
        }
      ]
    },
    {
      "cell_type": "markdown",
      "metadata": {
        "id": "a4Rkpq3xBPKj",
        "colab_type": "text"
      },
      "source": [
        "# 2.Visualización de los datos"
      ]
    },
    {
      "cell_type": "markdown",
      "metadata": {
        "id": "AAq-x2ofXXfY",
        "colab_type": "text"
      },
      "source": [
        "## a) ICA PARCIAL"
      ]
    },
    {
      "cell_type": "code",
      "metadata": {
        "id": "HHrwHLsbAofP",
        "colab_type": "code",
        "colab": {
          "base_uri": "https://localhost:8080/",
          "height": 401
        },
        "outputId": "073b064e-4a78-43ab-8aa3-1b7a5bf88182"
      },
      "source": [
        "# Suma de ICA agrupado por Hora y Magnitudes \n",
        "fig, ax = plt.subplots(figsize=(15,7))\n",
        "datos_filtrados.groupby(['hora','descripcion_magnitud']).sum()['ica_parcial'].unstack().plot(ax=ax)"
      ],
      "execution_count": null,
      "outputs": [
        {
          "output_type": "execute_result",
          "data": {
            "text/plain": [
              "<matplotlib.axes._subplots.AxesSubplot at 0x7fc28454e400>"
            ]
          },
          "metadata": {
            "tags": []
          },
          "execution_count": 14
        },
        {
          "output_type": "display_data",
          "data": {
            "image/png": "[encoded data removed]",
            "text/plain": [
              "<Figure size 1080x504 with 1 Axes>"
            ]
          },
          "metadata": {
            "tags": [],
            "needs_background": "light"
          }
        }
      ]
    },
    {
      "cell_type": "code",
      "metadata": {
        "id": "-iT2Q7TPuIDD",
        "colab_type": "code",
        "colab": {
          "base_uri": "https://localhost:8080/",
          "height": 436
        },
        "outputId": "0a803fec-ea06-4bd2-d3e4-19368c095723"
      },
      "source": [
        "print(datos_filtrados['descripcion_magnitud'].value_counts())\n",
        "plt.figure(figsize=(12,5))\n",
        "sns.countplot(datos_filtrados['descripcion_magnitud'])\n",
        "plt.show()"
      ],
      "execution_count": null,
      "outputs": [
        {
          "output_type": "stream",
          "text": [
            "Ozono                              92760\n",
            "Dióxido de nitrógeno               92700\n",
            "Partículas en suspensión < PM10    71612\n",
            "Monóxido de carbono                24904\n",
            "Dióxido de azufre                  24769\n",
            "Name: descripcion_magnitud, dtype: int64\n"
          ],
          "name": "stdout"
        },
        {
          "output_type": "display_data",
          "data": {
            "image/png": "[encoded data removed]",
            "text/plain": [
              "<Figure size 864x360 with 1 Axes>"
            ]
          },
          "metadata": {
            "tags": [],
            "needs_background": "light"
          }
        }
      ]
    },
    {
      "cell_type": "code",
      "metadata": {
        "id": "iT0T0Lr1FUNW",
        "colab_type": "code",
        "colab": {
          "base_uri": "https://localhost:8080/",
          "height": 279
        },
        "outputId": "6625b4c7-16f3-425a-e750-d4d45eeee236"
      },
      "source": [
        "# Valor ICA por Magnitudes\n",
        "ax = sns.lineplot(x = 'fecha', y = 'ica_parcial', hue = 'descripcion_magnitud', data = datos_filtrados)\n",
        "ax.set(xlabel = 'Fecha', ylabel='ICA PARCIAL')\n",
        "plt.show()"
      ],
      "execution_count": null,
      "outputs": [
        {
          "output_type": "display_data",
          "data": {
            "image/png": "[encoded data removed]",
            "text/plain": [
              "<Figure size 432x288 with 1 Axes>"
            ]
          },
          "metadata": {
            "tags": [],
            "needs_background": "light"
          }
        }
      ]
    },
    {
      "cell_type": "markdown",
      "metadata": {
        "id": "EvgksD2u2jhf",
        "colab_type": "text"
      },
      "source": [
        "**ICA**   CALIDAD DEL AIRE Índice de Calidad del Aire(µg/m3 )\n",
        "\n",
        "\n"
      ]
    },
    {
      "cell_type": "code",
      "metadata": {
        "id": "tuyR_ce7Bm-3",
        "colab_type": "code",
        "colab": {
          "base_uri": "https://localhost:8080/",
          "height": 279
        },
        "outputId": "d663f590-7a8e-4689-f86f-9a95ffcf697e"
      },
      "source": [
        "# Consultamos la concentracion de valores y outliers \n",
        "my_plot = datos_filtrados.plot(\"ica_parcial\", \"ica_parcial\", kind=\"scatter\")\n",
        "plt.show() "
      ],
      "execution_count": null,
      "outputs": [
        {
          "output_type": "display_data",
          "data": {
            "image/png": "[encoded data removed]",
            "text/plain": [
              "<Figure size 432x288 with 1 Axes>"
            ]
          },
          "metadata": {
            "tags": [],
            "needs_background": "light"
          }
        }
      ]
    },
    {
      "cell_type": "code",
      "metadata": {
        "id": "xGFRD57R3rZy",
        "colab_type": "code",
        "colab": {
          "base_uri": "https://localhost:8080/",
          "height": 221
        },
        "outputId": "c5183ab0-455b-4e5f-cbde-126a1547308e"
      },
      "source": [
        "# Consultamos los valores que más se repiten en ICA y los que menos.\n",
        "ica = datos_filtrados['ica_parcial'].value_counts()\n",
        "ica"
      ],
      "execution_count": null,
      "outputs": [
        {
          "output_type": "execute_result",
          "data": {
            "text/plain": [
              "0.28600     16439\n",
              "4.00000      9179\n",
              "1.00000      9110\n",
              "2.00000      8844\n",
              "3.00000      7537\n",
              "            ...  \n",
              "70.00040        1\n",
              "20.79996        1\n",
              "16.37976        1\n",
              "20.04936        1\n",
              "6.57748         1\n",
              "Name: ica_parcial, Length: 5238, dtype: int64"
            ]
          },
          "metadata": {
            "tags": []
          },
          "execution_count": 15
        }
      ]
    },
    {
      "cell_type": "code",
      "metadata": {
        "id": "3_8_a9Eh3v_J",
        "colab_type": "code",
        "colab": {
          "base_uri": "https://localhost:8080/",
          "height": 34
        },
        "outputId": "071b66e1-ff24-40f3-ed1b-072ae521216a"
      },
      "source": [
        "# Consultamos el promedio del valor de ICA\n",
        "ica.mean()"
      ],
      "execution_count": null,
      "outputs": [
        {
          "output_type": "execute_result",
          "data": {
            "text/plain": [
              "58.561473844979"
            ]
          },
          "metadata": {
            "tags": []
          },
          "execution_count": 16
        }
      ]
    },
    {
      "cell_type": "code",
      "metadata": {
        "id": "V66MUitD4YNs",
        "colab_type": "code",
        "colab": {
          "base_uri": "https://localhost:8080/",
          "height": 51
        },
        "outputId": "08333f3f-2a85-4ecd-e1cf-88071665d2ab"
      },
      "source": [
        "# Asimetría y curtosis:\n",
        "print(\"Asimetría: %f\" % datos_filtrados['ica_parcial'].skew())\n",
        "print(\"Curtosis: %f\" % datos_filtrados['ica_parcial'].kurt())"
      ],
      "execution_count": null,
      "outputs": [
        {
          "output_type": "stream",
          "text": [
            "Asimetría: 1.409066\n",
            "Curtosis: 2.960458\n"
          ],
          "name": "stdout"
        }
      ]
    },
    {
      "cell_type": "code",
      "metadata": {
        "id": "N6O5-Zd1AOQl",
        "colab_type": "code",
        "colab": {
          "base_uri": "https://localhost:8080/",
          "height": 68
        },
        "outputId": "78dd3b6d-655a-497e-fc50-6075eb6c2dbc"
      },
      "source": [
        "# Convertimos fecha en datetime\n",
        "df = datos_filtrados.loc[:, [\"fecha\",\"ica_parcial\"]]\n",
        "df['fecha'] = pd.DatetimeIndex(df['fecha'])\n",
        "df.dtypes"
      ],
      "execution_count": null,
      "outputs": [
        {
          "output_type": "execute_result",
          "data": {
            "text/plain": [
              "fecha          datetime64[ns]\n",
              "ica_parcial           float64\n",
              "dtype: object"
            ]
          },
          "metadata": {
            "tags": []
          },
          "execution_count": 18
        }
      ]
    },
    {
      "cell_type": "code",
      "metadata": {
        "id": "eC_79uT5Qk59",
        "colab_type": "code",
        "colab": {
          "base_uri": "https://localhost:8080/",
          "height": 350
        },
        "outputId": "47c9ecc4-8836-454f-8b6a-e0568549a467"
      },
      "source": [
        "#Mostramos histograma con valores ica parcial\n",
        "plt.figure(figsize=(12,5))\n",
        "plt.title(\"ICA\")\n",
        "ax = sns.distplot(datos_filtrados[\"ica_parcial\"], color = 'y')"
      ],
      "execution_count": null,
      "outputs": [
        {
          "output_type": "display_data",
          "data": {
            "image/png": "[encoded data removed]",
            "text/plain": [
              "<Figure size 864x360 with 1 Axes>"
            ]
          },
          "metadata": {
            "tags": [],
            "needs_background": "light"
          }
        }
      ]
    },
    {
      "cell_type": "code",
      "metadata": {
        "id": "THDfKu32TWV4",
        "colab_type": "code",
        "colab": {
          "base_uri": "https://localhost:8080/",
          "height": 350
        },
        "outputId": "17a2bfe4-7fbb-442f-ffa5-59f026bd74ce"
      },
      "source": [
        "# Mostramos gráfico tipo violín con datos ica parcial\n",
        "fig, ax = plt.subplots()\n",
        "fig.set_size_inches(10,5)\n",
        "sns.violinplot(datos_filtrados.dropna(subset = ['ica_parcial']).ica_parcial)"
      ],
      "execution_count": null,
      "outputs": [
        {
          "output_type": "execute_result",
          "data": {
            "text/plain": [
              "<matplotlib.axes._subplots.AxesSubplot at 0x7fc282f68a20>"
            ]
          },
          "metadata": {
            "tags": []
          },
          "execution_count": 20
        },
        {
          "output_type": "display_data",
          "data": {
            "image/png": "[encoded data removed]",
            "text/plain": [
              "<Figure size 720x360 with 1 Axes>"
            ]
          },
          "metadata": {
            "tags": [],
            "needs_background": "light"
          }
        }
      ]
    },
    {
      "cell_type": "code",
      "metadata": {
        "id": "uPL-FcODgkRa",
        "colab_type": "code",
        "colab": {
          "base_uri": "https://localhost:8080/",
          "height": 136
        },
        "outputId": "a54fff38-ee02-4ec9-de79-ecfb2c33f37c"
      },
      "source": [
        "# Mostramos valores medios por meses de ica parcial\n",
        "df.groupby(df['fecha'].dt.strftime('%B'))['ica_parcial'].mean().sort_values()"
      ],
      "execution_count": null,
      "outputs": [
        {
          "output_type": "execute_result",
          "data": {
            "text/plain": [
              "fecha\n",
              "April       13.516675\n",
              "January     14.673963\n",
              "March       14.709132\n",
              "February    14.944857\n",
              "May         15.341146\n",
              "Name: ica_parcial, dtype: float64"
            ]
          },
          "metadata": {
            "tags": []
          },
          "execution_count": 21
        }
      ]
    },
    {
      "cell_type": "code",
      "metadata": {
        "id": "dOg7NBsGp1Is",
        "colab_type": "code",
        "colab": {
          "base_uri": "https://localhost:8080/",
          "height": 419
        },
        "outputId": "325fb1c6-876d-4a4f-d087-d1b7a4ae4ee6"
      },
      "source": [
        "# Creamos columnas con el mes, dia y año\n",
        "df['mes'] = df['fecha'].dt.month\n",
        "df['dia'] = df['fecha'].dt.day\n",
        "df['año'] = df['fecha'].dt.year\n",
        "df"
      ],
      "execution_count": null,
      "outputs": [
        {
          "output_type": "execute_result",
          "data": {
            "text/html": [
              "<div>\n",
              "<style scoped>\n",
              "    .dataframe tbody tr th:only-of-type {\n",
              "        vertical-align: middle;\n",
              "    }\n",
              "\n",
              "    .dataframe tbody tr th {\n",
              "        vertical-align: top;\n",
              "    }\n",
              "\n",
              "    .dataframe thead th {\n",
              "        text-align: right;\n",
              "    }\n",
              "</style>\n",
              "<table border=\"1\" class=\"dataframe\">\n",
              "  <thead>\n",
              "    <tr style=\"text-align: right;\">\n",
              "      <th></th>\n",
              "      <th>fecha</th>\n",
              "      <th>ica_parcial</th>\n",
              "      <th>mes</th>\n",
              "      <th>dia</th>\n",
              "      <th>año</th>\n",
              "    </tr>\n",
              "  </thead>\n",
              "  <tbody>\n",
              "    <tr>\n",
              "      <th>0</th>\n",
              "      <td>2020-01-01</td>\n",
              "      <td>0.286</td>\n",
              "      <td>1</td>\n",
              "      <td>1</td>\n",
              "      <td>2020</td>\n",
              "    </tr>\n",
              "    <tr>\n",
              "      <th>1</th>\n",
              "      <td>2020-01-01</td>\n",
              "      <td>3.000</td>\n",
              "      <td>1</td>\n",
              "      <td>1</td>\n",
              "      <td>2020</td>\n",
              "    </tr>\n",
              "    <tr>\n",
              "      <th>2</th>\n",
              "      <td>2020-01-01</td>\n",
              "      <td>4.000</td>\n",
              "      <td>1</td>\n",
              "      <td>1</td>\n",
              "      <td>2020</td>\n",
              "    </tr>\n",
              "    <tr>\n",
              "      <th>3</th>\n",
              "      <td>2020-01-01</td>\n",
              "      <td>5.336</td>\n",
              "      <td>1</td>\n",
              "      <td>1</td>\n",
              "      <td>2020</td>\n",
              "    </tr>\n",
              "    <tr>\n",
              "      <th>4</th>\n",
              "      <td>2020-01-01</td>\n",
              "      <td>21.684</td>\n",
              "      <td>1</td>\n",
              "      <td>1</td>\n",
              "      <td>2020</td>\n",
              "    </tr>\n",
              "    <tr>\n",
              "      <th>...</th>\n",
              "      <td>...</td>\n",
              "      <td>...</td>\n",
              "      <td>...</td>\n",
              "      <td>...</td>\n",
              "      <td>...</td>\n",
              "    </tr>\n",
              "    <tr>\n",
              "      <th>306740</th>\n",
              "      <td>2020-05-25</td>\n",
              "      <td>37.252</td>\n",
              "      <td>5</td>\n",
              "      <td>25</td>\n",
              "      <td>2020</td>\n",
              "    </tr>\n",
              "    <tr>\n",
              "      <th>306741</th>\n",
              "      <td>2020-05-26</td>\n",
              "      <td>37.808</td>\n",
              "      <td>5</td>\n",
              "      <td>26</td>\n",
              "      <td>2020</td>\n",
              "    </tr>\n",
              "    <tr>\n",
              "      <th>306742</th>\n",
              "      <td>2020-05-28</td>\n",
              "      <td>40.032</td>\n",
              "      <td>5</td>\n",
              "      <td>28</td>\n",
              "      <td>2020</td>\n",
              "    </tr>\n",
              "    <tr>\n",
              "      <th>306743</th>\n",
              "      <td>2020-05-28</td>\n",
              "      <td>52.820</td>\n",
              "      <td>5</td>\n",
              "      <td>28</td>\n",
              "      <td>2020</td>\n",
              "    </tr>\n",
              "    <tr>\n",
              "      <th>306744</th>\n",
              "      <td>2020-05-28</td>\n",
              "      <td>45.036</td>\n",
              "      <td>5</td>\n",
              "      <td>28</td>\n",
              "      <td>2020</td>\n",
              "    </tr>\n",
              "  </tbody>\n",
              "</table>\n",
              "<p>306745 rows × 5 columns</p>\n",
              "</div>"
            ],
            "text/plain": [
              "            fecha  ica_parcial  mes  dia   año\n",
              "0      2020-01-01        0.286    1    1  2020\n",
              "1      2020-01-01        3.000    1    1  2020\n",
              "2      2020-01-01        4.000    1    1  2020\n",
              "3      2020-01-01        5.336    1    1  2020\n",
              "4      2020-01-01       21.684    1    1  2020\n",
              "...           ...          ...  ...  ...   ...\n",
              "306740 2020-05-25       37.252    5   25  2020\n",
              "306741 2020-05-26       37.808    5   26  2020\n",
              "306742 2020-05-28       40.032    5   28  2020\n",
              "306743 2020-05-28       52.820    5   28  2020\n",
              "306744 2020-05-28       45.036    5   28  2020\n",
              "\n",
              "[306745 rows x 5 columns]"
            ]
          },
          "metadata": {
            "tags": []
          },
          "execution_count": 22
        }
      ]
    },
    {
      "cell_type": "code",
      "metadata": {
        "id": "R5sYTVxjsjGi",
        "colab_type": "code",
        "colab": {
          "base_uri": "https://localhost:8080/",
          "height": 34
        },
        "outputId": "6fdc88e5-9312-4e2f-9c16-ef9e105c7360"
      },
      "source": [
        "# Mostramos los meses del análisis que son Enero, Febreo, Marzo, Abril y Mayo\n",
        "df['mes'].unique()"
      ],
      "execution_count": null,
      "outputs": [
        {
          "output_type": "execute_result",
          "data": {
            "text/plain": [
              "array([1, 2, 3, 4, 5])"
            ]
          },
          "metadata": {
            "tags": []
          },
          "execution_count": 23
        }
      ]
    },
    {
      "cell_type": "code",
      "metadata": {
        "id": "g7XFcBpsEQgH",
        "colab_type": "code",
        "colab": {
          "base_uri": "https://localhost:8080/",
          "height": 235
        },
        "outputId": "12bdac1a-1320-4376-ee85-d64233ae75fa"
      },
      "source": [
        "# Media mensual ICA\n",
        "df.groupby(['mes']).mean()[['ica_parcial']]"
      ],
      "execution_count": null,
      "outputs": [
        {
          "output_type": "execute_result",
          "data": {
            "text/html": [
              "<div>\n",
              "<style scoped>\n",
              "    .dataframe tbody tr th:only-of-type {\n",
              "        vertical-align: middle;\n",
              "    }\n",
              "\n",
              "    .dataframe tbody tr th {\n",
              "        vertical-align: top;\n",
              "    }\n",
              "\n",
              "    .dataframe thead th {\n",
              "        text-align: right;\n",
              "    }\n",
              "</style>\n",
              "<table border=\"1\" class=\"dataframe\">\n",
              "  <thead>\n",
              "    <tr style=\"text-align: right;\">\n",
              "      <th></th>\n",
              "      <th>ica_parcial</th>\n",
              "    </tr>\n",
              "    <tr>\n",
              "      <th>mes</th>\n",
              "      <th></th>\n",
              "    </tr>\n",
              "  </thead>\n",
              "  <tbody>\n",
              "    <tr>\n",
              "      <th>1</th>\n",
              "      <td>14.673963</td>\n",
              "    </tr>\n",
              "    <tr>\n",
              "      <th>2</th>\n",
              "      <td>14.944857</td>\n",
              "    </tr>\n",
              "    <tr>\n",
              "      <th>3</th>\n",
              "      <td>14.709132</td>\n",
              "    </tr>\n",
              "    <tr>\n",
              "      <th>4</th>\n",
              "      <td>13.516675</td>\n",
              "    </tr>\n",
              "    <tr>\n",
              "      <th>5</th>\n",
              "      <td>15.341146</td>\n",
              "    </tr>\n",
              "  </tbody>\n",
              "</table>\n",
              "</div>"
            ],
            "text/plain": [
              "     ica_parcial\n",
              "mes             \n",
              "1      14.673963\n",
              "2      14.944857\n",
              "3      14.709132\n",
              "4      13.516675\n",
              "5      15.341146"
            ]
          },
          "metadata": {
            "tags": []
          },
          "execution_count": 24
        }
      ]
    },
    {
      "cell_type": "code",
      "metadata": {
        "id": "Zwg7xfOhrB0b",
        "colab_type": "code",
        "colab": {
          "base_uri": "https://localhost:8080/",
          "height": 367
        },
        "outputId": "124aabbb-4a22-4c7d-c2d1-77c0e805f2f9"
      },
      "source": [
        "# Graficamos promedio ica por meses del 1(enero) al 5(mayo) \n",
        "dategroup=df.groupby('mes').mean()\n",
        "plt.figure(figsize=(12,5))\n",
        "dategroup['ica_parcial'].plot(x=df.fecha)\n",
        "plt.title('ICA PROMEDIO MES')"
      ],
      "execution_count": null,
      "outputs": [
        {
          "output_type": "execute_result",
          "data": {
            "text/plain": [
              "Text(0.5, 1.0, 'ICA PROMEDIO MES')"
            ]
          },
          "metadata": {
            "tags": []
          },
          "execution_count": 25
        },
        {
          "output_type": "display_data",
          "data": {
            "image/png": "[encoded data removed]",
            "text/plain": [
              "<Figure size 864x360 with 1 Axes>"
            ]
          },
          "metadata": {
            "tags": [],
            "needs_background": "light"
          }
        }
      ]
    },
    {
      "cell_type": "code",
      "metadata": {
        "id": "n_L8g64RW9Wk",
        "colab_type": "code",
        "colab": {
          "base_uri": "https://localhost:8080/",
          "height": 367
        },
        "outputId": "2448f5c6-4642-41b9-a64f-9f19d3111d4e"
      },
      "source": [
        "# Valor ICA por HORAS (24H)\n",
        "dategroup=datos_filtrados.groupby('hora').mean()\n",
        "plt.figure(figsize=(12,5))\n",
        "dategroup['ica_parcial'].plot(x=datos_filtrados.fecha)\n",
        "plt.title('ICA')"
      ],
      "execution_count": null,
      "outputs": [
        {
          "output_type": "execute_result",
          "data": {
            "text/plain": [
              "Text(0.5, 1.0, 'ICA')"
            ]
          },
          "metadata": {
            "tags": []
          },
          "execution_count": 26
        },
        {
          "output_type": "display_data",
          "data": {
            "image/png": "[encoded data removed]",
            "text/plain": [
              "<Figure size 864x360 with 1 Axes>"
            ]
          },
          "metadata": {
            "tags": [],
            "needs_background": "light"
          }
        }
      ]
    },
    {
      "cell_type": "markdown",
      "metadata": {
        "id": "NqGXooBbW337",
        "colab_type": "text"
      },
      "source": [
        "## b) Velocidad del viento"
      ]
    },
    {
      "cell_type": "code",
      "metadata": {
        "id": "iqPIBR6yX51i",
        "colab_type": "code",
        "colab": {
          "base_uri": "https://localhost:8080/",
          "height": 350
        },
        "outputId": "aa248c68-b071-46f1-920d-2475fc4df8e7"
      },
      "source": [
        "#Mostramos histograma con valores velocidad de viento\n",
        "plt.figure(figsize=(12,5))\n",
        "plt.title(\"Velocidad del viento\")\n",
        "ax = sns.distplot(datos_filtrados[\"Velocidad_viento\"], color = 'y')"
      ],
      "execution_count": null,
      "outputs": [
        {
          "output_type": "display_data",
          "data": {
            "image/png": "[encoded data removed]",
            "text/plain": [
              "<Figure size 864x360 with 1 Axes>"
            ]
          },
          "metadata": {
            "tags": [],
            "needs_background": "light"
          }
        }
      ]
    },
    {
      "cell_type": "code",
      "metadata": {
        "id": "VzEL1k3GsmX6",
        "colab_type": "code",
        "colab": {
          "base_uri": "https://localhost:8080/",
          "height": 52
        },
        "outputId": "e6f57950-3e70-42f0-a597-b9b0cdbbc561"
      },
      "source": [
        "# Asimetría y curtosis:\n",
        "print(\"Asimetría: %f\" % datos_filtrados['Velocidad_viento'].skew())\n",
        "print(\"Curtosis: %f\" % datos_filtrados['Velocidad_viento'].kurt())"
      ],
      "execution_count": null,
      "outputs": [
        {
          "output_type": "stream",
          "text": [
            "Asimetría: 1.793058\n",
            "Curtosis: 5.008540\n"
          ],
          "name": "stdout"
        }
      ]
    },
    {
      "cell_type": "code",
      "metadata": {
        "id": "nW9tttXxs3Px",
        "colab_type": "code",
        "colab": {
          "base_uri": "https://localhost:8080/",
          "height": 351
        },
        "outputId": "34e98bbd-f25b-43b9-cb1a-01058c017873"
      },
      "source": [
        "# Mostramos gráfico tipo violín con datos Velocidad_viento\n",
        "fig, ax = plt.subplots()\n",
        "fig.set_size_inches(10,5)\n",
        "sns.violinplot(datos_filtrados.dropna(subset = ['Velocidad_viento']).Velocidad_viento)"
      ],
      "execution_count": null,
      "outputs": [
        {
          "output_type": "execute_result",
          "data": {
            "text/plain": [
              "<matplotlib.axes._subplots.AxesSubplot at 0x7f76209fd4a8>"
            ]
          },
          "metadata": {
            "tags": []
          },
          "execution_count": 17
        },
        {
          "output_type": "display_data",
          "data": {
            "image/png": "[encoded data removed]",
            "text/plain": [
              "<Figure size 720x360 with 1 Axes>"
            ]
          },
          "metadata": {
            "tags": [],
            "needs_background": "light"
          }
        }
      ]
    },
    {
      "cell_type": "code",
      "metadata": {
        "id": "LqMI2VWUZAcq",
        "colab_type": "code",
        "colab": {
          "base_uri": "https://localhost:8080/",
          "height": 279
        },
        "outputId": "0c951029-a746-4484-acd3-e80d84185c15"
      },
      "source": [
        "# Consultamos la concentracion de valores y outliers \n",
        "my_plot = datos_filtrados.plot(\"Velocidad_viento\", \"Velocidad_viento\", kind=\"scatter\")\n",
        "plt.show() "
      ],
      "execution_count": null,
      "outputs": [
        {
          "output_type": "display_data",
          "data": {
            "image/png": "[encoded data removed]",
            "text/plain": [
              "<Figure size 432x288 with 1 Axes>"
            ]
          },
          "metadata": {
            "tags": [],
            "needs_background": "light"
          }
        }
      ]
    },
    {
      "cell_type": "code",
      "metadata": {
        "id": "S5K3PEgvZooz",
        "colab_type": "code",
        "colab": {
          "base_uri": "https://localhost:8080/",
          "height": 262
        },
        "outputId": "28467b7f-00a3-4b3b-e870-a2dd74f41da0"
      },
      "source": [
        "# Distribución de los valores de la magnitud Velocidad del viento\n",
        "datos_filtrados[['Velocidad_viento']].plot(kind='hist',bins=[0,0.5,1.0,2,2.0,2.5],rwidth=0.8)\n",
        "plt.show()"
      ],
      "execution_count": null,
      "outputs": [
        {
          "output_type": "display_data",
          "data": {
            "image/png": "[encoded data removed]",
            "text/plain": [
              "<Figure size 432x288 with 1 Axes>"
            ]
          },
          "metadata": {
            "tags": [],
            "needs_background": "light"
          }
        }
      ]
    },
    {
      "cell_type": "code",
      "metadata": {
        "id": "yBJIp5COtb7e",
        "colab_type": "code",
        "colab": {
          "base_uri": "https://localhost:8080/",
          "height": 69
        },
        "outputId": "b1d4843b-0779-4e24-b42d-e5fefd4933e1"
      },
      "source": [
        "# Creamos dataframe con viento y Convertimos fecha en datetime\n",
        "viento = datos_filtrados.loc[:, [\"fecha\",\"Velocidad_viento\"]]\n",
        "viento['fecha'] = pd.DatetimeIndex(viento['fecha'])\n",
        "viento.dtypes"
      ],
      "execution_count": null,
      "outputs": [
        {
          "output_type": "execute_result",
          "data": {
            "text/plain": [
              "fecha               datetime64[ns]\n",
              "Velocidad_viento           float64\n",
              "dtype: object"
            ]
          },
          "metadata": {
            "tags": []
          },
          "execution_count": 19
        }
      ]
    },
    {
      "cell_type": "code",
      "metadata": {
        "id": "CjF3eC7RtrVc",
        "colab_type": "code",
        "colab": {
          "base_uri": "https://localhost:8080/",
          "height": 294
        },
        "outputId": "626a6b64-9c4b-4812-b7c4-003a9fd83609"
      },
      "source": [
        "# Consultamos valores del la magnitud viento\n",
        "viento.describe()"
      ],
      "execution_count": null,
      "outputs": [
        {
          "output_type": "execute_result",
          "data": {
            "text/html": [
              "<div>\n",
              "<style scoped>\n",
              "    .dataframe tbody tr th:only-of-type {\n",
              "        vertical-align: middle;\n",
              "    }\n",
              "\n",
              "    .dataframe tbody tr th {\n",
              "        vertical-align: top;\n",
              "    }\n",
              "\n",
              "    .dataframe thead th {\n",
              "        text-align: right;\n",
              "    }\n",
              "</style>\n",
              "<table border=\"1\" class=\"dataframe\">\n",
              "  <thead>\n",
              "    <tr style=\"text-align: right;\">\n",
              "      <th></th>\n",
              "      <th>Velocidad_viento</th>\n",
              "    </tr>\n",
              "  </thead>\n",
              "  <tbody>\n",
              "    <tr>\n",
              "      <th>count</th>\n",
              "      <td>306745.000000</td>\n",
              "    </tr>\n",
              "    <tr>\n",
              "      <th>mean</th>\n",
              "      <td>1.765884</td>\n",
              "    </tr>\n",
              "    <tr>\n",
              "      <th>std</th>\n",
              "      <td>1.459266</td>\n",
              "    </tr>\n",
              "    <tr>\n",
              "      <th>min</th>\n",
              "      <td>0.000000</td>\n",
              "    </tr>\n",
              "    <tr>\n",
              "      <th>25%</th>\n",
              "      <td>0.700000</td>\n",
              "    </tr>\n",
              "    <tr>\n",
              "      <th>50%</th>\n",
              "      <td>1.400000</td>\n",
              "    </tr>\n",
              "    <tr>\n",
              "      <th>75%</th>\n",
              "      <td>2.400000</td>\n",
              "    </tr>\n",
              "    <tr>\n",
              "      <th>max</th>\n",
              "      <td>13.900000</td>\n",
              "    </tr>\n",
              "  </tbody>\n",
              "</table>\n",
              "</div>"
            ],
            "text/plain": [
              "       Velocidad_viento\n",
              "count     306745.000000\n",
              "mean           1.765884\n",
              "std            1.459266\n",
              "min            0.000000\n",
              "25%            0.700000\n",
              "50%            1.400000\n",
              "75%            2.400000\n",
              "max           13.900000"
            ]
          },
          "metadata": {
            "tags": []
          },
          "execution_count": 21
        }
      ]
    },
    {
      "cell_type": "markdown",
      "metadata": {
        "id": "vaV_JKr2uYLF",
        "colab_type": "text"
      },
      "source": [
        "## c) Dirección del viento"
      ]
    },
    {
      "cell_type": "code",
      "metadata": {
        "id": "F3TVuaRkuduZ",
        "colab_type": "code",
        "colab": {
          "base_uri": "https://localhost:8080/",
          "height": 350
        },
        "outputId": "da9edb6f-7422-4e1d-c1b5-218c71bae30e"
      },
      "source": [
        "#Mostramos histograma con valores dirección del viento\n",
        "plt.figure(figsize=(12,5))\n",
        "plt.title(\"Dirección del viento\")\n",
        "ax = sns.distplot(datos_filtrados[\"Direccion_viento\"], color = 'y')\n",
        "\n"
      ],
      "execution_count": null,
      "outputs": [
        {
          "output_type": "display_data",
          "data": {
            "image/png": "[encoded data removed]",
            "text/plain": [
              "<Figure size 864x360 with 1 Axes>"
            ]
          },
          "metadata": {
            "tags": [],
            "needs_background": "light"
          }
        }
      ]
    },
    {
      "cell_type": "code",
      "metadata": {
        "id": "38ZnWT1tuu3t",
        "colab_type": "code",
        "colab": {
          "base_uri": "https://localhost:8080/",
          "height": 52
        },
        "outputId": "f43c0ca8-10bc-4aad-802c-e34de1d5541d"
      },
      "source": [
        "# Asimetría y curtosis:\n",
        "print(\"Asimetría: %f\" % datos_filtrados['Direccion_viento'].skew())\n",
        "print(\"Curtosis: %f\" % datos_filtrados['Direccion_viento'].kurt())"
      ],
      "execution_count": null,
      "outputs": [
        {
          "output_type": "stream",
          "text": [
            "Asimetría: 0.053952\n",
            "Curtosis: -1.062406\n"
          ],
          "name": "stdout"
        }
      ]
    },
    {
      "cell_type": "code",
      "metadata": {
        "id": "CTz4s9-Lu4Mi",
        "colab_type": "code",
        "colab": {
          "base_uri": "https://localhost:8080/",
          "height": 351
        },
        "outputId": "94b27e15-e5be-4915-c8ec-dff14fb2773b"
      },
      "source": [
        "# Mostramos gráfico tipo violín con datos Direccion_viento\n",
        "fig, ax = plt.subplots()\n",
        "fig.set_size_inches(10,5)\n",
        "sns.violinplot(datos_filtrados.dropna(subset = ['Direccion_viento']).Direccion_viento)"
      ],
      "execution_count": null,
      "outputs": [
        {
          "output_type": "execute_result",
          "data": {
            "text/plain": [
              "<matplotlib.axes._subplots.AxesSubplot at 0x7f76201180b8>"
            ]
          },
          "metadata": {
            "tags": []
          },
          "execution_count": 25
        },
        {
          "output_type": "display_data",
          "data": {
            "image/png": "[encoded data removed]",
            "text/plain": [
              "<Figure size 720x360 with 1 Axes>"
            ]
          },
          "metadata": {
            "tags": [],
            "needs_background": "light"
          }
        }
      ]
    },
    {
      "cell_type": "code",
      "metadata": {
        "id": "aQkSl9kSvAvI",
        "colab_type": "code",
        "colab": {
          "base_uri": "https://localhost:8080/",
          "height": 279
        },
        "outputId": "6b6f47fa-4da3-4d49-a57c-de6b29ba9b91"
      },
      "source": [
        "# Consultamos la concentracion de valores y outliers \n",
        "my_plot = datos_filtrados.plot(\"Direccion_viento\", \"Direccion_viento\", kind=\"scatter\")\n",
        "plt.show() "
      ],
      "execution_count": null,
      "outputs": [
        {
          "output_type": "display_data",
          "data": {
            "image/png": "[encoded data removed]",
            "text/plain": [
              "<Figure size 432x288 with 1 Axes>"
            ]
          },
          "metadata": {
            "tags": [],
            "needs_background": "light"
          }
        }
      ]
    },
    {
      "cell_type": "code",
      "metadata": {
        "id": "rA4rsHwnvKad",
        "colab_type": "code",
        "colab": {
          "base_uri": "https://localhost:8080/",
          "height": 69
        },
        "outputId": "8924d7b6-d399-4aa9-acd0-29d226a12eb0"
      },
      "source": [
        "# Creamos dataframe con Direccion_viento y Convertimos fecha en datetime\n",
        "direccion = datos_filtrados.loc[:, [\"fecha\",\"Direccion_viento\"]]\n",
        "direccion['fecha'] = pd.DatetimeIndex(direccion['fecha'])\n",
        "direccion.dtypes"
      ],
      "execution_count": null,
      "outputs": [
        {
          "output_type": "execute_result",
          "data": {
            "text/plain": [
              "fecha               datetime64[ns]\n",
              "Direccion_viento           float64\n",
              "dtype: object"
            ]
          },
          "metadata": {
            "tags": []
          },
          "execution_count": 27
        }
      ]
    },
    {
      "cell_type": "code",
      "metadata": {
        "id": "-E4Yz6lqvbo-",
        "colab_type": "code",
        "colab": {
          "base_uri": "https://localhost:8080/",
          "height": 294
        },
        "outputId": "9d0e9a65-d92b-48da-b350-21f0815320f9"
      },
      "source": [
        "# Consultamos valores del la magnitud viento\n",
        "direccion.describe()"
      ],
      "execution_count": null,
      "outputs": [
        {
          "output_type": "execute_result",
          "data": {
            "text/html": [
              "<div>\n",
              "<style scoped>\n",
              "    .dataframe tbody tr th:only-of-type {\n",
              "        vertical-align: middle;\n",
              "    }\n",
              "\n",
              "    .dataframe tbody tr th {\n",
              "        vertical-align: top;\n",
              "    }\n",
              "\n",
              "    .dataframe thead th {\n",
              "        text-align: right;\n",
              "    }\n",
              "</style>\n",
              "<table border=\"1\" class=\"dataframe\">\n",
              "  <thead>\n",
              "    <tr style=\"text-align: right;\">\n",
              "      <th></th>\n",
              "      <th>Direccion_viento</th>\n",
              "    </tr>\n",
              "  </thead>\n",
              "  <tbody>\n",
              "    <tr>\n",
              "      <th>count</th>\n",
              "      <td>306745.000000</td>\n",
              "    </tr>\n",
              "    <tr>\n",
              "      <th>mean</th>\n",
              "      <td>171.096181</td>\n",
              "    </tr>\n",
              "    <tr>\n",
              "      <th>std</th>\n",
              "      <td>90.260191</td>\n",
              "    </tr>\n",
              "    <tr>\n",
              "      <th>min</th>\n",
              "      <td>0.000000</td>\n",
              "    </tr>\n",
              "    <tr>\n",
              "      <th>25%</th>\n",
              "      <td>91.000000</td>\n",
              "    </tr>\n",
              "    <tr>\n",
              "      <th>50%</th>\n",
              "      <td>173.000000</td>\n",
              "    </tr>\n",
              "    <tr>\n",
              "      <th>75%</th>\n",
              "      <td>242.000000</td>\n",
              "    </tr>\n",
              "    <tr>\n",
              "      <th>max</th>\n",
              "      <td>360.000000</td>\n",
              "    </tr>\n",
              "  </tbody>\n",
              "</table>\n",
              "</div>"
            ],
            "text/plain": [
              "       Direccion_viento\n",
              "count     306745.000000\n",
              "mean         171.096181\n",
              "std           90.260191\n",
              "min            0.000000\n",
              "25%           91.000000\n",
              "50%          173.000000\n",
              "75%          242.000000\n",
              "max          360.000000"
            ]
          },
          "metadata": {
            "tags": []
          },
          "execution_count": 29
        }
      ]
    },
    {
      "cell_type": "markdown",
      "metadata": {
        "id": "UCnVvTPxvxAY",
        "colab_type": "text"
      },
      "source": [
        "## d) Temperatura"
      ]
    },
    {
      "cell_type": "code",
      "metadata": {
        "id": "ca2raGaUv1pL",
        "colab_type": "code",
        "colab": {
          "base_uri": "https://localhost:8080/",
          "height": 350
        },
        "outputId": "a0f1dfc2-da4d-4336-d745-ee698a812bbd"
      },
      "source": [
        "#Mostramos histograma con valores Temperatura\n",
        "plt.figure(figsize=(12,5))\n",
        "plt.title(\"Temperatura\")\n",
        "ax = sns.distplot(datos_filtrados[\"Temperatura\"], color = 'y')"
      ],
      "execution_count": null,
      "outputs": [
        {
          "output_type": "display_data",
          "data": {
            "image/png": "[encoded data removed]",
            "text/plain": [
              "<Figure size 864x360 with 1 Axes>"
            ]
          },
          "metadata": {
            "tags": [],
            "needs_background": "light"
          }
        }
      ]
    },
    {
      "cell_type": "code",
      "metadata": {
        "id": "o-zT9zqFwB77",
        "colab_type": "code",
        "colab": {
          "base_uri": "https://localhost:8080/",
          "height": 52
        },
        "outputId": "0defed40-fd7a-4211-c19e-e98cba3d48e3"
      },
      "source": [
        "# Asimetría y curtosis:\n",
        "print(\"Asimetría: %f\" % datos_filtrados['Temperatura'].skew())\n",
        "print(\"Curtosis: %f\" % datos_filtrados['Temperatura'].kurt())"
      ],
      "execution_count": null,
      "outputs": [
        {
          "output_type": "stream",
          "text": [
            "Asimetría: 0.601611\n",
            "Curtosis: 0.500122\n"
          ],
          "name": "stdout"
        }
      ]
    },
    {
      "cell_type": "code",
      "metadata": {
        "id": "qJLVZsuJwI9K",
        "colab_type": "code",
        "colab": {
          "base_uri": "https://localhost:8080/",
          "height": 351
        },
        "outputId": "10b09b49-1def-452a-a736-f8c2383cbd28"
      },
      "source": [
        "# Mostramos gráfico tipo violín con datos Temperatura\n",
        "fig, ax = plt.subplots()\n",
        "fig.set_size_inches(10,5)\n",
        "sns.violinplot(datos_filtrados.dropna(subset = ['Temperatura']).Temperatura)"
      ],
      "execution_count": null,
      "outputs": [
        {
          "output_type": "execute_result",
          "data": {
            "text/plain": [
              "<matplotlib.axes._subplots.AxesSubplot at 0x7f761fec7710>"
            ]
          },
          "metadata": {
            "tags": []
          },
          "execution_count": 32
        },
        {
          "output_type": "display_data",
          "data": {
            "image/png": "[encoded data removed]",
            "text/plain": [
              "<Figure size 720x360 with 1 Axes>"
            ]
          },
          "metadata": {
            "tags": [],
            "needs_background": "light"
          }
        }
      ]
    },
    {
      "cell_type": "code",
      "metadata": {
        "id": "k-egN5HWwWwt",
        "colab_type": "code",
        "colab": {
          "base_uri": "https://localhost:8080/",
          "height": 279
        },
        "outputId": "10a99a9c-e79e-4b22-d64d-98f1d7c7b92d"
      },
      "source": [
        "w# Consultamos la concentracion de valores y outliers \n",
        "my_plot = datos_filtrados.plot(\"Temperatura\", \"Temperatura\", kind=\"scatter\")\n",
        "plt.show() "
      ],
      "execution_count": null,
      "outputs": [
        {
          "output_type": "display_data",
          "data": {
            "image/png": "[encoded data removed]",
            "text/plain": [
              "<Figure size 432x288 with 1 Axes>"
            ]
          },
          "metadata": {
            "tags": [],
            "needs_background": "light"
          }
        }
      ]
    },
    {
      "cell_type": "markdown",
      "metadata": {
        "id": "yMZwM8KOwePA",
        "colab_type": "text"
      },
      "source": [
        "## e) Humedad relativa"
      ]
    },
    {
      "cell_type": "code",
      "metadata": {
        "id": "GvookVIVwic9",
        "colab_type": "code",
        "colab": {
          "base_uri": "https://localhost:8080/",
          "height": 350
        },
        "outputId": "4b786c01-99ec-4021-a472-4a399a70a96d"
      },
      "source": [
        "#Mostramos histograma con valores Humedad relativa\n",
        "plt.figure(figsize=(12,5))\n",
        "plt.title(\"Humedad_relativa\")\n",
        "ax = sns.distplot(datos_filtrados[\"Humedad_relativa\"], color = 'y')\n"
      ],
      "execution_count": null,
      "outputs": [
        {
          "output_type": "display_data",
          "data": {
            "image/png": "[encoded data removed]",
            "text/plain": [
              "<Figure size 864x360 with 1 Axes>"
            ]
          },
          "metadata": {
            "tags": [],
            "needs_background": "light"
          }
        }
      ]
    },
    {
      "cell_type": "code",
      "metadata": {
        "id": "r0CDfNMTwrjN",
        "colab_type": "code",
        "colab": {
          "base_uri": "https://localhost:8080/",
          "height": 52
        },
        "outputId": "c8509865-4ac6-4a6e-cb19-70337daae335"
      },
      "source": [
        "# Asimetría y curtosis:\n",
        "print(\"Asimetría: %f\" % datos_filtrados['Humedad_relativa'].skew())\n",
        "print(\"Curtosis: %f\" % datos_filtrados['Humedad_relativa'].kurt())"
      ],
      "execution_count": null,
      "outputs": [
        {
          "output_type": "stream",
          "text": [
            "Asimetría: -0.367189\n",
            "Curtosis: -0.840936\n"
          ],
          "name": "stdout"
        }
      ]
    },
    {
      "cell_type": "code",
      "metadata": {
        "id": "XMN5VDEWwxx-",
        "colab_type": "code",
        "colab": {
          "base_uri": "https://localhost:8080/",
          "height": 351
        },
        "outputId": "139b2962-cc29-479b-9109-ce973c24024e"
      },
      "source": [
        "# Mostramos gráfico tipo violín con datos Humedad relativa\n",
        "fig, ax = plt.subplots()\n",
        "fig.set_size_inches(10,5)\n",
        "sns.violinplot(datos_filtrados.dropna(subset = ['Humedad_relativa']).Humedad_relativa)"
      ],
      "execution_count": null,
      "outputs": [
        {
          "output_type": "execute_result",
          "data": {
            "text/plain": [
              "<matplotlib.axes._subplots.AxesSubplot at 0x7f761fce69b0>"
            ]
          },
          "metadata": {
            "tags": []
          },
          "execution_count": 36
        },
        {
          "output_type": "display_data",
          "data": {
            "image/png": "[encoded data removed]",
            "text/plain": [
              "<Figure size 720x360 with 1 Axes>"
            ]
          },
          "metadata": {
            "tags": [],
            "needs_background": "light"
          }
        }
      ]
    },
    {
      "cell_type": "code",
      "metadata": {
        "id": "CO5FGdkrw4hO",
        "colab_type": "code",
        "colab": {
          "base_uri": "https://localhost:8080/",
          "height": 279
        },
        "outputId": "aeadc8bf-b3e9-4d79-af03-5c9733c3949e"
      },
      "source": [
        "# Consultamos la concentracion de valores y outliers \n",
        "my_plot = datos_filtrados.plot(\"Humedad_relativa\", \"Humedad_relativa\", kind=\"scatter\")\n",
        "plt.show() "
      ],
      "execution_count": null,
      "outputs": [
        {
          "output_type": "display_data",
          "data": {
            "image/png": "[encoded data removed]",
            "text/plain": [
              "<Figure size 432x288 with 1 Axes>"
            ]
          },
          "metadata": {
            "tags": [],
            "needs_background": "light"
          }
        }
      ]
    },
    {
      "cell_type": "code",
      "metadata": {
        "id": "ERO0y6zexOEs",
        "colab_type": "code",
        "colab": {
          "base_uri": "https://localhost:8080/",
          "height": 52
        },
        "outputId": "36dc3a76-a8a1-4def-92cd-5706d3eb4527"
      },
      "source": [
        "# Asimetría y curtosis:\n",
        "print(\"Asimetría: %f\" % datos_filtrados['Humedad_relativa'].skew())\n",
        "print(\"Curtosis: %f\" % datos_filtrados['Humedad_relativa'].kurt())"
      ],
      "execution_count": null,
      "outputs": [
        {
          "output_type": "stream",
          "text": [
            "Asimetría: -0.367189\n",
            "Curtosis: -0.840936\n"
          ],
          "name": "stdout"
        }
      ]
    },
    {
      "cell_type": "markdown",
      "metadata": {
        "id": "2CPEHKbdxAgd",
        "colab_type": "text"
      },
      "source": [
        "## f) Presión atmosferica"
      ]
    },
    {
      "cell_type": "code",
      "metadata": {
        "id": "s6NkeXNwxEd5",
        "colab_type": "code",
        "colab": {
          "base_uri": "https://localhost:8080/",
          "height": 350
        },
        "outputId": "ccf318ed-d347-47f6-8766-70676575ca6b"
      },
      "source": [
        "#Mostramos histograma con valores Presion atmosferica \n",
        "plt.figure(figsize=(12,5))\n",
        "plt.title(\"Presion_atmosferica\")\n",
        "ax = sns.distplot(datos_filtrados[\"Presion_atmosferica\"], color = 'y')"
      ],
      "execution_count": null,
      "outputs": [
        {
          "output_type": "display_data",
          "data": {
            "image/png": "[encoded data removed]",
            "text/plain": [
              "<Figure size 864x360 with 1 Axes>"
            ]
          },
          "metadata": {
            "tags": [],
            "needs_background": "light"
          }
        }
      ]
    },
    {
      "cell_type": "code",
      "metadata": {
        "id": "I_zVmUo5xR34",
        "colab_type": "code",
        "colab": {
          "base_uri": "https://localhost:8080/",
          "height": 52
        },
        "outputId": "09203217-0e8e-4e01-aaa2-1aacf85688ca"
      },
      "source": [
        "# Asimetría y curtosis:\n",
        "print(\"Asimetría: %f\" % datos_filtrados['Presion_atmosferica'].skew())\n",
        "print(\"Curtosis: %f\" % datos_filtrados['Presion_atmosferica'].kurt())"
      ],
      "execution_count": null,
      "outputs": [
        {
          "output_type": "stream",
          "text": [
            "Asimetría: -2.651511\n",
            "Curtosis: 8.872800\n"
          ],
          "name": "stdout"
        }
      ]
    },
    {
      "cell_type": "code",
      "metadata": {
        "id": "4ikkHuboxbBH",
        "colab_type": "code",
        "colab": {
          "base_uri": "https://localhost:8080/",
          "height": 351
        },
        "outputId": "38932feb-216d-42aa-a40c-89d87e01f211"
      },
      "source": [
        "# Mostramos gráfico tipo violín con datos Presion atmosferica \n",
        "fig, ax = plt.subplots()\n",
        "fig.set_size_inches(10,5)\n",
        "sns.violinplot(datos_filtrados.dropna(subset = ['Presion_atmosferica']).Presion_atmosferica)"
      ],
      "execution_count": null,
      "outputs": [
        {
          "output_type": "execute_result",
          "data": {
            "text/plain": [
              "<matplotlib.axes._subplots.AxesSubplot at 0x7f761fe429e8>"
            ]
          },
          "metadata": {
            "tags": []
          },
          "execution_count": 41
        },
        {
          "output_type": "display_data",
          "data": {
            "image/png": "[encoded data removed]",
            "text/plain": [
              "<Figure size 720x360 with 1 Axes>"
            ]
          },
          "metadata": {
            "tags": [],
            "needs_background": "light"
          }
        }
      ]
    },
    {
      "cell_type": "code",
      "metadata": {
        "id": "AgJQ0wTcxkHH",
        "colab_type": "code",
        "colab": {
          "base_uri": "https://localhost:8080/",
          "height": 279
        },
        "outputId": "d1ea2a2f-a787-490b-df5e-7ada0da34dd5"
      },
      "source": [
        "# Consultamos la concentracion de valores y outliers \n",
        "my_plot = datos_filtrados.plot(\"Presion_atmosferica\", \"Presion_atmosferica\", kind=\"scatter\")\n",
        "plt.show() "
      ],
      "execution_count": null,
      "outputs": [
        {
          "output_type": "display_data",
          "data": {
            "image/png": "[encoded data removed]",
            "text/plain": [
              "<Figure size 432x288 with 1 Axes>"
            ]
          },
          "metadata": {
            "tags": [],
            "needs_background": "light"
          }
        }
      ]
    },
    {
      "cell_type": "markdown",
      "metadata": {
        "id": "uxQgJ1NNxvj6",
        "colab_type": "text"
      },
      "source": [
        "## g) Radiacción Solar"
      ]
    },
    {
      "cell_type": "code",
      "metadata": {
        "id": "05jVkEBaxush",
        "colab_type": "code",
        "colab": {
          "base_uri": "https://localhost:8080/",
          "height": 350
        },
        "outputId": "7067e317-b9e1-47d3-9d03-fa4f6b7e93cb"
      },
      "source": [
        " #Mostramos histograma con valores Radiacción Solar\n",
        "plt.figure(figsize=(12,5))\n",
        "plt.title(\"Radiaccion_solar\")\n",
        "ax = sns.distplot(datos_filtrados[\"Radiaccion_solar\"], color = 'y')"
      ],
      "execution_count": null,
      "outputs": [
        {
          "output_type": "display_data",
          "data": {
            "image/png": "[encoded data removed]",
            "text/plain": [
              "<Figure size 864x360 with 1 Axes>"
            ]
          },
          "metadata": {
            "tags": [],
            "needs_background": "light"
          }
        }
      ]
    },
    {
      "cell_type": "code",
      "metadata": {
        "id": "WP3xygx6yAe4",
        "colab_type": "code",
        "colab": {
          "base_uri": "https://localhost:8080/",
          "height": 52
        },
        "outputId": "d0434be8-1767-49da-e362-6779c5b438f1"
      },
      "source": [
        "# Asimetría y curtosis:\n",
        "print(\"Asimetría: %f\" % datos_filtrados['Radiaccion_solar'].skew())\n",
        "print(\"Curtosis: %f\" % datos_filtrados['Radiaccion_solar'].kurt())"
      ],
      "execution_count": null,
      "outputs": [
        {
          "output_type": "stream",
          "text": [
            "Asimetría: 1.607255\n",
            "Curtosis: 1.641561\n"
          ],
          "name": "stdout"
        }
      ]
    },
    {
      "cell_type": "code",
      "metadata": {
        "id": "k2WVidDCyFfP",
        "colab_type": "code",
        "colab": {
          "base_uri": "https://localhost:8080/",
          "height": 351
        },
        "outputId": "f7e3ee43-9de1-44fe-86c4-0c98be2c8f34"
      },
      "source": [
        "# Mostramos gráfico tipo violín con datos Radiaccion solar  \n",
        "fig, ax = plt.subplots()\n",
        "fig.set_size_inches(10,5)\n",
        "sns.violinplot(datos_filtrados.dropna(subset = ['Radiaccion_solar']).Radiaccion_solar)"
      ],
      "execution_count": null,
      "outputs": [
        {
          "output_type": "execute_result",
          "data": {
            "text/plain": [
              "<matplotlib.axes._subplots.AxesSubplot at 0x7f762006e7b8>"
            ]
          },
          "metadata": {
            "tags": []
          },
          "execution_count": 45
        },
        {
          "output_type": "display_data",
          "data": {
            "image/png": "[encoded data removed]",
            "text/plain": [
              "<Figure size 720x360 with 1 Axes>"
            ]
          },
          "metadata": {
            "tags": [],
            "needs_background": "light"
          }
        }
      ]
    },
    {
      "cell_type": "code",
      "metadata": {
        "id": "54ihxjrYyLFk",
        "colab_type": "code",
        "colab": {
          "base_uri": "https://localhost:8080/",
          "height": 279
        },
        "outputId": "520c312d-e1e1-4bba-fdf7-38b6855b9d9f"
      },
      "source": [
        "# Consultamos la concentracion de valores y outliers \n",
        "my_plot = datos_filtrados.plot(\"Radiaccion_solar\", \"Radiaccion_solar\", kind=\"scatter\")\n",
        "plt.show() "
      ],
      "execution_count": null,
      "outputs": [
        {
          "output_type": "display_data",
          "data": {
            "image/png": "[encoded data removed]",
            "text/plain": [
              "<Figure size 432x288 with 1 Axes>"
            ]
          },
          "metadata": {
            "tags": [],
            "needs_background": "light"
          }
        }
      ]
    },
    {
      "cell_type": "markdown",
      "metadata": {
        "id": "RZPBIdPoyWEB",
        "colab_type": "text"
      },
      "source": [
        "## h) Precipitación"
      ]
    },
    {
      "cell_type": "code",
      "metadata": {
        "id": "rPTalm_QyZnR",
        "colab_type": "code",
        "colab": {
          "base_uri": "https://localhost:8080/",
          "height": 350
        },
        "outputId": "85d242fb-d8c0-4353-e527-f824a035e9f3"
      },
      "source": [
        " #Mostramos histograma con valores Precipitacion\n",
        "plt.figure(figsize=(12,5))\n",
        "plt.title(\"Precipitacion\")\n",
        "ax = sns.distplot(datos_filtrados[\"Precipitacion\"], color = 'y')"
      ],
      "execution_count": null,
      "outputs": [
        {
          "output_type": "display_data",
          "data": {
            "image/png": "[encoded data removed]",
            "text/plain": [
              "<Figure size 864x360 with 1 Axes>"
            ]
          },
          "metadata": {
            "tags": [],
            "needs_background": "light"
          }
        }
      ]
    },
    {
      "cell_type": "code",
      "metadata": {
        "id": "MCybkffqymxJ",
        "colab_type": "code",
        "colab": {
          "base_uri": "https://localhost:8080/",
          "height": 52
        },
        "outputId": "09113ca0-815a-4579-d6f5-0a335efb9821"
      },
      "source": [
        "# Asimetría y curtosis:\n",
        "print(\"Asimetría: %f\" % datos_filtrados['Precipitacion'].skew())\n",
        "print(\"Curtosis: %f\" % datos_filtrados['Precipitacion'].kurt())"
      ],
      "execution_count": null,
      "outputs": [
        {
          "output_type": "stream",
          "text": [
            "Asimetría: 15.438756\n",
            "Curtosis: 365.609030\n"
          ],
          "name": "stdout"
        }
      ]
    },
    {
      "cell_type": "code",
      "metadata": {
        "id": "3tLpnygKyryZ",
        "colab_type": "code",
        "colab": {
          "base_uri": "https://localhost:8080/",
          "height": 351
        },
        "outputId": "2d02a232-bedf-4690-c9f4-3fe4bad5ed26"
      },
      "source": [
        "# Mostramos gráfico tipo violín con datos Precipitacion   \n",
        "fig, ax = plt.subplots()\n",
        "fig.set_size_inches(10,5)\n",
        "sns.violinplot(datos_filtrados.dropna(subset = ['Precipitacion']).Precipitacion)"
      ],
      "execution_count": null,
      "outputs": [
        {
          "output_type": "execute_result",
          "data": {
            "text/plain": [
              "<matplotlib.axes._subplots.AxesSubplot at 0x7f76202946a0>"
            ]
          },
          "metadata": {
            "tags": []
          },
          "execution_count": 49
        },
        {
          "output_type": "display_data",
          "data": {
            "image/png": "[encoded data removed]",
            "text/plain": [
              "<Figure size 720x360 with 1 Axes>"
            ]
          },
          "metadata": {
            "tags": [],
            "needs_background": "light"
          }
        }
      ]
    },
    {
      "cell_type": "code",
      "metadata": {
        "id": "by_4fn3eyzTr",
        "colab_type": "code",
        "colab": {
          "base_uri": "https://localhost:8080/",
          "height": 279
        },
        "outputId": "d8b52ac6-66cd-42fb-a268-24c954017e34"
      },
      "source": [
        "# Consultamos la concentracion de valores y outliers \n",
        "my_plot = datos_filtrados.plot(\"Precipitacion\", \"Precipitacion\", kind=\"scatter\")\n",
        "plt.show() "
      ],
      "execution_count": null,
      "outputs": [
        {
          "output_type": "display_data",
          "data": {
            "image/png": "[encoded data removed]",
            "text/plain": [
              "<Figure size 432x288 with 1 Axes>"
            ]
          },
          "metadata": {
            "tags": [],
            "needs_background": "light"
          }
        }
      ]
    },
    {
      "cell_type": "markdown",
      "metadata": {
        "id": "741Gw6i1nHJ4",
        "colab_type": "text"
      },
      "source": [
        "# 3.Preparacion de los datos"
      ]
    },
    {
      "cell_type": "markdown",
      "metadata": {
        "id": "WHD8Qc-EG079",
        "colab_type": "text"
      },
      "source": [
        ""
      ]
    },
    {
      "cell_type": "code",
      "metadata": {
        "id": "Bp6DzKG0QBB7",
        "colab_type": "code",
        "colab": {
          "base_uri": "https://localhost:8080/",
          "height": 479
        },
        "outputId": "2f4da628-15b5-4052-ee8c-ec22c2cbcbc1"
      },
      "source": [
        "# Creamos campo binario ica para aquellos valores que superen percentil 75.\n",
        "datos_filtrados['ica'] = np.where(datos_filtrados['ica_parcial']>=60, 0, 1) # Marcamos con 0 los que superen valor 60\n",
        "datos_filtrados.head(5)"
      ],
      "execution_count": null,
      "outputs": [
        {
          "output_type": "execute_result",
          "data": {
            "text/html": [
              "<div>\n",
              "<style scoped>\n",
              "    .dataframe tbody tr th:only-of-type {\n",
              "        vertical-align: middle;\n",
              "    }\n",
              "\n",
              "    .dataframe tbody tr th {\n",
              "        vertical-align: top;\n",
              "    }\n",
              "\n",
              "    .dataframe thead th {\n",
              "        text-align: right;\n",
              "    }\n",
              "</style>\n",
              "<table border=\"1\" class=\"dataframe\">\n",
              "  <thead>\n",
              "    <tr style=\"text-align: right;\">\n",
              "      <th></th>\n",
              "      <th>id</th>\n",
              "      <th>id_merge</th>\n",
              "      <th>fechahora</th>\n",
              "      <th>fecha</th>\n",
              "      <th>hora</th>\n",
              "      <th>estacion_real</th>\n",
              "      <th>magnitud</th>\n",
              "      <th>descripcion_magnitud</th>\n",
              "      <th>factor_calculo_horario</th>\n",
              "      <th>ica_parcial</th>\n",
              "      <th>valor_magnitud</th>\n",
              "      <th>provincia</th>\n",
              "      <th>municipio</th>\n",
              "      <th>dia_de_la_semana</th>\n",
              "      <th>Velocidad_viento</th>\n",
              "      <th>Direccion_viento</th>\n",
              "      <th>Temperatura</th>\n",
              "      <th>Humedad_relativa</th>\n",
              "      <th>Presion_atmosferica</th>\n",
              "      <th>Radiaccion_solar</th>\n",
              "      <th>Precipitacion</th>\n",
              "      <th>ica</th>\n",
              "    </tr>\n",
              "  </thead>\n",
              "  <tbody>\n",
              "    <tr>\n",
              "      <th>0</th>\n",
              "      <td>2020-1-1-00:00-28102001-1</td>\n",
              "      <td>2020-1-1-00:00-28102001</td>\n",
              "      <td>2020-1-1 00:00</td>\n",
              "      <td>2020-1-1</td>\n",
              "      <td>1</td>\n",
              "      <td>28102001</td>\n",
              "      <td>1</td>\n",
              "      <td>Dióxido de azufre</td>\n",
              "      <td>0.286</td>\n",
              "      <td>0.286</td>\n",
              "      <td>1.0</td>\n",
              "      <td>28</td>\n",
              "      <td>102</td>\n",
              "      <td>2</td>\n",
              "      <td>1.1</td>\n",
              "      <td>15.0</td>\n",
              "      <td>2.7</td>\n",
              "      <td>86.0</td>\n",
              "      <td>946.0</td>\n",
              "      <td>12.0</td>\n",
              "      <td>0.0</td>\n",
              "      <td>1</td>\n",
              "    </tr>\n",
              "    <tr>\n",
              "      <th>1</th>\n",
              "      <td>2020-1-1-00:00-28102001-6</td>\n",
              "      <td>2020-1-1-00:00-28102001</td>\n",
              "      <td>2020-1-1 00:00</td>\n",
              "      <td>2020-1-1</td>\n",
              "      <td>1</td>\n",
              "      <td>28102001</td>\n",
              "      <td>6</td>\n",
              "      <td>Monóxido de carbono</td>\n",
              "      <td>10.000</td>\n",
              "      <td>3.000</td>\n",
              "      <td>0.3</td>\n",
              "      <td>28</td>\n",
              "      <td>102</td>\n",
              "      <td>2</td>\n",
              "      <td>1.1</td>\n",
              "      <td>15.0</td>\n",
              "      <td>2.7</td>\n",
              "      <td>86.0</td>\n",
              "      <td>946.0</td>\n",
              "      <td>12.0</td>\n",
              "      <td>0.0</td>\n",
              "      <td>1</td>\n",
              "    </tr>\n",
              "    <tr>\n",
              "      <th>2</th>\n",
              "      <td>2020-1-1-00:00-28102001-8</td>\n",
              "      <td>2020-1-1-00:00-28102001</td>\n",
              "      <td>2020-1-1 00:00</td>\n",
              "      <td>2020-1-1</td>\n",
              "      <td>1</td>\n",
              "      <td>28102001</td>\n",
              "      <td>8</td>\n",
              "      <td>Dióxido de nitrógeno</td>\n",
              "      <td>0.500</td>\n",
              "      <td>4.000</td>\n",
              "      <td>8.0</td>\n",
              "      <td>28</td>\n",
              "      <td>102</td>\n",
              "      <td>2</td>\n",
              "      <td>1.1</td>\n",
              "      <td>15.0</td>\n",
              "      <td>2.7</td>\n",
              "      <td>86.0</td>\n",
              "      <td>946.0</td>\n",
              "      <td>12.0</td>\n",
              "      <td>0.0</td>\n",
              "      <td>1</td>\n",
              "    </tr>\n",
              "    <tr>\n",
              "      <th>3</th>\n",
              "      <td>2020-1-1-00:00-28102001-10</td>\n",
              "      <td>2020-1-1-00:00-28102001</td>\n",
              "      <td>2020-1-1 00:00</td>\n",
              "      <td>2020-1-1</td>\n",
              "      <td>1</td>\n",
              "      <td>28102001</td>\n",
              "      <td>10</td>\n",
              "      <td>Partículas en suspensión &lt; PM10</td>\n",
              "      <td>0.667</td>\n",
              "      <td>5.336</td>\n",
              "      <td>8.0</td>\n",
              "      <td>28</td>\n",
              "      <td>102</td>\n",
              "      <td>2</td>\n",
              "      <td>1.1</td>\n",
              "      <td>15.0</td>\n",
              "      <td>2.7</td>\n",
              "      <td>86.0</td>\n",
              "      <td>946.0</td>\n",
              "      <td>12.0</td>\n",
              "      <td>0.0</td>\n",
              "      <td>1</td>\n",
              "    </tr>\n",
              "    <tr>\n",
              "      <th>4</th>\n",
              "      <td>2020-1-1-00:00-28102001-14</td>\n",
              "      <td>2020-1-1-00:00-28102001</td>\n",
              "      <td>2020-1-1 00:00</td>\n",
              "      <td>2020-1-1</td>\n",
              "      <td>1</td>\n",
              "      <td>28102001</td>\n",
              "      <td>14</td>\n",
              "      <td>Ozono</td>\n",
              "      <td>0.556</td>\n",
              "      <td>21.684</td>\n",
              "      <td>39.0</td>\n",
              "      <td>28</td>\n",
              "      <td>102</td>\n",
              "      <td>2</td>\n",
              "      <td>1.1</td>\n",
              "      <td>15.0</td>\n",
              "      <td>2.7</td>\n",
              "      <td>86.0</td>\n",
              "      <td>946.0</td>\n",
              "      <td>12.0</td>\n",
              "      <td>0.0</td>\n",
              "      <td>1</td>\n",
              "    </tr>\n",
              "  </tbody>\n",
              "</table>\n",
              "</div>"
            ],
            "text/plain": [
              "                           id                 id_merge  ... Precipitacion ica\n",
              "0   2020-1-1-00:00-28102001-1  2020-1-1-00:00-28102001  ...           0.0   1\n",
              "1   2020-1-1-00:00-28102001-6  2020-1-1-00:00-28102001  ...           0.0   1\n",
              "2   2020-1-1-00:00-28102001-8  2020-1-1-00:00-28102001  ...           0.0   1\n",
              "3  2020-1-1-00:00-28102001-10  2020-1-1-00:00-28102001  ...           0.0   1\n",
              "4  2020-1-1-00:00-28102001-14  2020-1-1-00:00-28102001  ...           0.0   1\n",
              "\n",
              "[5 rows x 22 columns]"
            ]
          },
          "metadata": {
            "tags": []
          },
          "execution_count": 28
        }
      ]
    },
    {
      "cell_type": "code",
      "metadata": {
        "id": "G_0eKN4OnS_M",
        "colab_type": "code",
        "colab": {
          "base_uri": "https://localhost:8080/",
          "height": 309
        },
        "outputId": "203e7d15-a6d0-4481-cd27-82854f9e5791"
      },
      "source": [
        "# Normalizamos datos de ICA y magnitudes\n",
        "from sklearn import preprocessing\n",
        "values = ['ica_parcial', 'Velocidad_viento', 'Direccion_viento', 'Temperatura', 'Humedad_relativa','Presion_atmosferica','Radiaccion_solar','Precipitacion']\n",
        "x = datos_filtrados[values] #returns a numpy array\n",
        "min_max_scaler = preprocessing.MinMaxScaler()\n",
        "x_scaled = min_max_scaler.fit_transform(x)\n",
        "datos_normalizados = pd.DataFrame(x_scaled)\n",
        "datos_normalizados.columns = ['ica_parcial', 'Velocidad_viento', 'Direccion_viento', 'Temperatura', 'Humedad_relativa','Presion_atmosferica','Radiaccion_solar','Precipitacion']\n",
        "datos_normalizados.insert(0, \"Fecha\", datos_filtrados[\"fecha\"]) # incluimos fecha\n",
        "datos_normalizados.head()"
      ],
      "execution_count": null,
      "outputs": [
        {
          "output_type": "execute_result",
          "data": {
            "text/html": [
              "<div>\n",
              "<style scoped>\n",
              "    .dataframe tbody tr th:only-of-type {\n",
              "        vertical-align: middle;\n",
              "    }\n",
              "\n",
              "    .dataframe tbody tr th {\n",
              "        vertical-align: top;\n",
              "    }\n",
              "\n",
              "    .dataframe thead th {\n",
              "        text-align: right;\n",
              "    }\n",
              "</style>\n",
              "<table border=\"1\" class=\"dataframe\">\n",
              "  <thead>\n",
              "    <tr style=\"text-align: right;\">\n",
              "      <th></th>\n",
              "      <th>Fecha</th>\n",
              "      <th>ica_parcial</th>\n",
              "      <th>Velocidad_viento</th>\n",
              "      <th>Direccion_viento</th>\n",
              "      <th>Temperatura</th>\n",
              "      <th>Humedad_relativa</th>\n",
              "      <th>Presion_atmosferica</th>\n",
              "      <th>Radiaccion_solar</th>\n",
              "      <th>Precipitacion</th>\n",
              "    </tr>\n",
              "  </thead>\n",
              "  <tbody>\n",
              "    <tr>\n",
              "      <th>0</th>\n",
              "      <td>2020-1-1</td>\n",
              "      <td>0.000000</td>\n",
              "      <td>0.079137</td>\n",
              "      <td>0.041667</td>\n",
              "      <td>0.267241</td>\n",
              "      <td>0.849462</td>\n",
              "      <td>0.697872</td>\n",
              "      <td>0.008362</td>\n",
              "      <td>0.0</td>\n",
              "    </tr>\n",
              "    <tr>\n",
              "      <th>1</th>\n",
              "      <td>2020-1-1</td>\n",
              "      <td>0.010472</td>\n",
              "      <td>0.079137</td>\n",
              "      <td>0.041667</td>\n",
              "      <td>0.267241</td>\n",
              "      <td>0.849462</td>\n",
              "      <td>0.697872</td>\n",
              "      <td>0.008362</td>\n",
              "      <td>0.0</td>\n",
              "    </tr>\n",
              "    <tr>\n",
              "      <th>2</th>\n",
              "      <td>2020-1-1</td>\n",
              "      <td>0.014330</td>\n",
              "      <td>0.079137</td>\n",
              "      <td>0.041667</td>\n",
              "      <td>0.267241</td>\n",
              "      <td>0.849462</td>\n",
              "      <td>0.697872</td>\n",
              "      <td>0.008362</td>\n",
              "      <td>0.0</td>\n",
              "    </tr>\n",
              "    <tr>\n",
              "      <th>3</th>\n",
              "      <td>2020-1-1</td>\n",
              "      <td>0.019485</td>\n",
              "      <td>0.079137</td>\n",
              "      <td>0.041667</td>\n",
              "      <td>0.267241</td>\n",
              "      <td>0.849462</td>\n",
              "      <td>0.697872</td>\n",
              "      <td>0.008362</td>\n",
              "      <td>0.0</td>\n",
              "    </tr>\n",
              "    <tr>\n",
              "      <th>4</th>\n",
              "      <td>2020-1-1</td>\n",
              "      <td>0.082561</td>\n",
              "      <td>0.079137</td>\n",
              "      <td>0.041667</td>\n",
              "      <td>0.267241</td>\n",
              "      <td>0.849462</td>\n",
              "      <td>0.697872</td>\n",
              "      <td>0.008362</td>\n",
              "      <td>0.0</td>\n",
              "    </tr>\n",
              "  </tbody>\n",
              "</table>\n",
              "</div>"
            ],
            "text/plain": [
              "      Fecha  ica_parcial  ...  Radiaccion_solar  Precipitacion\n",
              "0  2020-1-1     0.000000  ...          0.008362            0.0\n",
              "1  2020-1-1     0.010472  ...          0.008362            0.0\n",
              "2  2020-1-1     0.014330  ...          0.008362            0.0\n",
              "3  2020-1-1     0.019485  ...          0.008362            0.0\n",
              "4  2020-1-1     0.082561  ...          0.008362            0.0\n",
              "\n",
              "[5 rows x 9 columns]"
            ]
          },
          "metadata": {
            "tags": []
          },
          "execution_count": 33
        }
      ]
    },
    {
      "cell_type": "code",
      "metadata": {
        "id": "Uxba6V8no-5t",
        "colab_type": "code",
        "colab": {
          "base_uri": "https://localhost:8080/",
          "height": 187
        },
        "outputId": "2babc508-1e9a-4604-8e2e-050142a1a984"
      },
      "source": [
        "#datos_normalizados.describe()\n",
        "datos_normalizados.dtypes"
      ],
      "execution_count": null,
      "outputs": [
        {
          "output_type": "execute_result",
          "data": {
            "text/plain": [
              "Fecha                   object\n",
              "ica_parcial            float64\n",
              "Velocidad_viento       float64\n",
              "Direccion_viento       float64\n",
              "Temperatura            float64\n",
              "Humedad_relativa       float64\n",
              "Presion_atmosferica    float64\n",
              "Radiaccion_solar       float64\n",
              "Precipitacion          float64\n",
              "dtype: object"
            ]
          },
          "metadata": {
            "tags": []
          },
          "execution_count": 34
        }
      ]
    },
    {
      "cell_type": "code",
      "metadata": {
        "id": "oerNQrkQy_am",
        "colab_type": "code",
        "colab": {
          "base_uri": "https://localhost:8080/",
          "height": 317
        },
        "outputId": "2be6f123-5d22-4fd4-b3e5-269fb275664a"
      },
      "source": [
        "# Correlacion entre variables\n",
        "datos_normalizados.corr()"
      ],
      "execution_count": null,
      "outputs": [
        {
          "output_type": "execute_result",
          "data": {
            "text/html": [
              "<div>\n",
              "<style scoped>\n",
              "    .dataframe tbody tr th:only-of-type {\n",
              "        vertical-align: middle;\n",
              "    }\n",
              "\n",
              "    .dataframe tbody tr th {\n",
              "        vertical-align: top;\n",
              "    }\n",
              "\n",
              "    .dataframe thead th {\n",
              "        text-align: right;\n",
              "    }\n",
              "</style>\n",
              "<table border=\"1\" class=\"dataframe\">\n",
              "  <thead>\n",
              "    <tr style=\"text-align: right;\">\n",
              "      <th></th>\n",
              "      <th>ica_parcial</th>\n",
              "      <th>Velocidad_viento</th>\n",
              "      <th>Direccion_viento</th>\n",
              "      <th>Temperatura</th>\n",
              "      <th>Humedad_relativa</th>\n",
              "      <th>Presion_atmosferica</th>\n",
              "      <th>Radiaccion_solar</th>\n",
              "      <th>Precipitacion</th>\n",
              "    </tr>\n",
              "  </thead>\n",
              "  <tbody>\n",
              "    <tr>\n",
              "      <th>ica_parcial</th>\n",
              "      <td>1.000000</td>\n",
              "      <td>-0.002807</td>\n",
              "      <td>0.030969</td>\n",
              "      <td>0.091190</td>\n",
              "      <td>-0.138864</td>\n",
              "      <td>-0.016026</td>\n",
              "      <td>0.065026</td>\n",
              "      <td>-0.000650</td>\n",
              "    </tr>\n",
              "    <tr>\n",
              "      <th>Velocidad_viento</th>\n",
              "      <td>-0.002807</td>\n",
              "      <td>1.000000</td>\n",
              "      <td>0.087003</td>\n",
              "      <td>0.046567</td>\n",
              "      <td>-0.149505</td>\n",
              "      <td>-0.166474</td>\n",
              "      <td>0.174825</td>\n",
              "      <td>0.029568</td>\n",
              "    </tr>\n",
              "    <tr>\n",
              "      <th>Direccion_viento</th>\n",
              "      <td>0.030969</td>\n",
              "      <td>0.087003</td>\n",
              "      <td>1.000000</td>\n",
              "      <td>0.112804</td>\n",
              "      <td>-0.055589</td>\n",
              "      <td>-0.025468</td>\n",
              "      <td>0.034587</td>\n",
              "      <td>-0.014321</td>\n",
              "    </tr>\n",
              "    <tr>\n",
              "      <th>Temperatura</th>\n",
              "      <td>0.091190</td>\n",
              "      <td>0.046567</td>\n",
              "      <td>0.112804</td>\n",
              "      <td>1.000000</td>\n",
              "      <td>-0.662602</td>\n",
              "      <td>0.178888</td>\n",
              "      <td>0.520177</td>\n",
              "      <td>-0.057894</td>\n",
              "    </tr>\n",
              "    <tr>\n",
              "      <th>Humedad_relativa</th>\n",
              "      <td>-0.138864</td>\n",
              "      <td>-0.149505</td>\n",
              "      <td>-0.055589</td>\n",
              "      <td>-0.662602</td>\n",
              "      <td>1.000000</td>\n",
              "      <td>-0.062552</td>\n",
              "      <td>-0.511907</td>\n",
              "      <td>0.137632</td>\n",
              "    </tr>\n",
              "    <tr>\n",
              "      <th>Presion_atmosferica</th>\n",
              "      <td>-0.016026</td>\n",
              "      <td>-0.166474</td>\n",
              "      <td>-0.025468</td>\n",
              "      <td>0.178888</td>\n",
              "      <td>-0.062552</td>\n",
              "      <td>1.000000</td>\n",
              "      <td>-0.024700</td>\n",
              "      <td>-0.100302</td>\n",
              "    </tr>\n",
              "    <tr>\n",
              "      <th>Radiaccion_solar</th>\n",
              "      <td>0.065026</td>\n",
              "      <td>0.174825</td>\n",
              "      <td>0.034587</td>\n",
              "      <td>0.520177</td>\n",
              "      <td>-0.511907</td>\n",
              "      <td>-0.024700</td>\n",
              "      <td>1.000000</td>\n",
              "      <td>-0.060533</td>\n",
              "    </tr>\n",
              "    <tr>\n",
              "      <th>Precipitacion</th>\n",
              "      <td>-0.000650</td>\n",
              "      <td>0.029568</td>\n",
              "      <td>-0.014321</td>\n",
              "      <td>-0.057894</td>\n",
              "      <td>0.137632</td>\n",
              "      <td>-0.100302</td>\n",
              "      <td>-0.060533</td>\n",
              "      <td>1.000000</td>\n",
              "    </tr>\n",
              "  </tbody>\n",
              "</table>\n",
              "</div>"
            ],
            "text/plain": [
              "                     ica_parcial  ...  Precipitacion\n",
              "ica_parcial             1.000000  ...      -0.000650\n",
              "Velocidad_viento       -0.002807  ...       0.029568\n",
              "Direccion_viento        0.030969  ...      -0.014321\n",
              "Temperatura             0.091190  ...      -0.057894\n",
              "Humedad_relativa       -0.138864  ...       0.137632\n",
              "Presion_atmosferica    -0.016026  ...      -0.100302\n",
              "Radiaccion_solar        0.065026  ...      -0.060533\n",
              "Precipitacion          -0.000650  ...       1.000000\n",
              "\n",
              "[8 rows x 8 columns]"
            ]
          },
          "metadata": {
            "tags": []
          },
          "execution_count": 35
        }
      ]
    },
    {
      "cell_type": "code",
      "metadata": {
        "id": "yqixj4IIpCxl",
        "colab_type": "code",
        "colab": {
          "base_uri": "https://localhost:8080/",
          "height": 347
        },
        "outputId": "1a2b20d7-34a9-4ce2-bd43-25e89065623a"
      },
      "source": [
        "### Consultamos diagramas box y whisker (cajas y bigotes)\n",
        "boxplot = datos_normalizados.boxplot(grid=False, rot=45, fontsize=12)"
      ],
      "execution_count": null,
      "outputs": [
        {
          "output_type": "display_data",
          "data": {
            "image/png": "[encoded data removed]",
            "text/plain": [
              "<Figure size 432x288 with 1 Axes>"
            ]
          },
          "metadata": {
            "tags": [],
            "needs_background": "light"
          }
        }
      ]
    },
    {
      "cell_type": "code",
      "metadata": {
        "id": "gCHfxRqWpIz7",
        "colab_type": "code",
        "colab": {
          "base_uri": "https://localhost:8080/",
          "height": 628
        },
        "outputId": "f099962d-b878-430e-8feb-4c514bb3dba4"
      },
      "source": [
        "# Matriz de correlación de las magnitudes\n",
        "corrmat = datos_normalizados.corr(method='pearson')\n",
        "f, ax = plt.subplots(figsize=(12, 9))\n",
        "sns.heatmap(corrmat, vmax=.8, square=True);"
      ],
      "execution_count": null,
      "outputs": [
        {
          "output_type": "display_data",
          "data": {
            "image/png": "[encoded data removed]",
            "text/plain": [
              "<Figure size 864x648 with 2 Axes>"
            ]
          },
          "metadata": {
            "tags": [],
            "needs_background": "light"
          }
        }
      ]
    },
    {
      "cell_type": "code",
      "metadata": {
        "id": "CqH61bMjzm_y",
        "colab_type": "code",
        "colab": {
          "base_uri": "https://localhost:8080/",
          "height": 628
        },
        "outputId": "509d7fb3-6885-41a6-d733-db4547ed8fcb"
      },
      "source": [
        "#Correlacion con datos\n",
        "f,ax = plt.subplots(figsize=(9, 9))\n",
        "sns.heatmap(datos_normalizados.corr(), annot=True, linewidths=.5, fmt= '.1f',ax=ax)\n",
        "plt.show()"
      ],
      "execution_count": null,
      "outputs": [
        {
          "output_type": "display_data",
          "data": {
            "image/png": "[encoded data removed]",
            "text/plain": [
              "<Figure size 648x648 with 2 Axes>"
            ]
          },
          "metadata": {
            "tags": [],
            "needs_background": "light"
          }
        }
      ]
    },
    {
      "cell_type": "markdown",
      "metadata": {
        "id": "pIFlGnGPwW_l",
        "colab_type": "text"
      },
      "source": [
        "# 4.Evaluación de algoritmos\n",
        "\n"
      ]
    },
    {
      "cell_type": "code",
      "metadata": {
        "id": "wgXV_GF2RKGE",
        "colab_type": "code",
        "colab": {
          "base_uri": "https://localhost:8080/",
          "height": 224
        },
        "outputId": "a4872ce0-7b04-4de6-a7ab-f50532b01f23"
      },
      "source": [
        "# Preparamos dataframe\n",
        "datos_normalizados = datos_normalizados.drop(['Fecha'], axis=1) # eliminamos fecha\n",
        "datos_normalizados.insert(1, \"ica\", datos_filtrados[\"ica\"]) # incluimos ica binario >60 1\n",
        "datos_normalizados.head(5)"
      ],
      "execution_count": null,
      "outputs": [
        {
          "output_type": "execute_result",
          "data": {
            "text/html": [
              "<div>\n",
              "<style scoped>\n",
              "    .dataframe tbody tr th:only-of-type {\n",
              "        vertical-align: middle;\n",
              "    }\n",
              "\n",
              "    .dataframe tbody tr th {\n",
              "        vertical-align: top;\n",
              "    }\n",
              "\n",
              "    .dataframe thead th {\n",
              "        text-align: right;\n",
              "    }\n",
              "</style>\n",
              "<table border=\"1\" class=\"dataframe\">\n",
              "  <thead>\n",
              "    <tr style=\"text-align: right;\">\n",
              "      <th></th>\n",
              "      <th>ica</th>\n",
              "      <th>ica_parcial</th>\n",
              "      <th>Velocidad_viento</th>\n",
              "      <th>Direccion_viento</th>\n",
              "      <th>Temperatura</th>\n",
              "      <th>Humedad_relativa</th>\n",
              "      <th>Presion_atmosferica</th>\n",
              "      <th>Radiaccion_solar</th>\n",
              "      <th>Precipitacion</th>\n",
              "    </tr>\n",
              "  </thead>\n",
              "  <tbody>\n",
              "    <tr>\n",
              "      <th>0</th>\n",
              "      <td>1</td>\n",
              "      <td>0.000000</td>\n",
              "      <td>0.079137</td>\n",
              "      <td>0.041667</td>\n",
              "      <td>0.267241</td>\n",
              "      <td>0.849462</td>\n",
              "      <td>0.697872</td>\n",
              "      <td>0.008362</td>\n",
              "      <td>0.0</td>\n",
              "    </tr>\n",
              "    <tr>\n",
              "      <th>1</th>\n",
              "      <td>1</td>\n",
              "      <td>0.010472</td>\n",
              "      <td>0.079137</td>\n",
              "      <td>0.041667</td>\n",
              "      <td>0.267241</td>\n",
              "      <td>0.849462</td>\n",
              "      <td>0.697872</td>\n",
              "      <td>0.008362</td>\n",
              "      <td>0.0</td>\n",
              "    </tr>\n",
              "    <tr>\n",
              "      <th>2</th>\n",
              "      <td>1</td>\n",
              "      <td>0.014330</td>\n",
              "      <td>0.079137</td>\n",
              "      <td>0.041667</td>\n",
              "      <td>0.267241</td>\n",
              "      <td>0.849462</td>\n",
              "      <td>0.697872</td>\n",
              "      <td>0.008362</td>\n",
              "      <td>0.0</td>\n",
              "    </tr>\n",
              "    <tr>\n",
              "      <th>3</th>\n",
              "      <td>1</td>\n",
              "      <td>0.019485</td>\n",
              "      <td>0.079137</td>\n",
              "      <td>0.041667</td>\n",
              "      <td>0.267241</td>\n",
              "      <td>0.849462</td>\n",
              "      <td>0.697872</td>\n",
              "      <td>0.008362</td>\n",
              "      <td>0.0</td>\n",
              "    </tr>\n",
              "    <tr>\n",
              "      <th>4</th>\n",
              "      <td>1</td>\n",
              "      <td>0.082561</td>\n",
              "      <td>0.079137</td>\n",
              "      <td>0.041667</td>\n",
              "      <td>0.267241</td>\n",
              "      <td>0.849462</td>\n",
              "      <td>0.697872</td>\n",
              "      <td>0.008362</td>\n",
              "      <td>0.0</td>\n",
              "    </tr>\n",
              "  </tbody>\n",
              "</table>\n",
              "</div>"
            ],
            "text/plain": [
              "   ica  ica_parcial  ...  Radiaccion_solar  Precipitacion\n",
              "0    1     0.000000  ...          0.008362            0.0\n",
              "1    1     0.010472  ...          0.008362            0.0\n",
              "2    1     0.014330  ...          0.008362            0.0\n",
              "3    1     0.019485  ...          0.008362            0.0\n",
              "4    1     0.082561  ...          0.008362            0.0\n",
              "\n",
              "[5 rows x 9 columns]"
            ]
          },
          "metadata": {
            "tags": []
          },
          "execution_count": 42
        }
      ]
    },
    {
      "cell_type": "code",
      "metadata": {
        "id": "EEb2nGzRUtKX",
        "colab_type": "code",
        "colab": {}
      },
      "source": [
        "from sklearn.linear_model import LogisticRegression\n",
        "from sklearn.ensemble import AdaBoostClassifier, GradientBoostingClassifier, RandomForestClassifier\n",
        "from sklearn.neighbors import KNeighborsClassifier\n",
        "from sklearn.model_selection import train_test_split\n",
        "from sklearn.metrics import roc_auc_score\n",
        "\n",
        "X = datos_normalizados.drop('ica', axis=1)\n",
        "y = datos_normalizados.ica\n",
        "\n",
        "X_train, X_test, y_train, y_test = train_test_split(X, y, test_size=0.25)"
      ],
      "execution_count": null,
      "outputs": []
    },
    {
      "cell_type": "code",
      "metadata": {
        "id": "Kq9yixjXVlSh",
        "colab_type": "code",
        "colab": {
          "base_uri": "https://localhost:8080/",
          "height": 221
        },
        "outputId": "8b3112f6-dd5c-454b-93b1-0aaaa453aa7a"
      },
      "source": [
        "y\n"
      ],
      "execution_count": null,
      "outputs": [
        {
          "output_type": "execute_result",
          "data": {
            "text/plain": [
              "0         1\n",
              "1         1\n",
              "2         1\n",
              "3         1\n",
              "4         1\n",
              "         ..\n",
              "306740    1\n",
              "306741    1\n",
              "306742    1\n",
              "306743    1\n",
              "306744    1\n",
              "Name: ica, Length: 306745, dtype: int64"
            ]
          },
          "metadata": {
            "tags": []
          },
          "execution_count": 47
        }
      ]
    },
    {
      "cell_type": "markdown",
      "metadata": {
        "id": "yIB9eRrxOCak",
        "colab_type": "text"
      },
      "source": [
        "## 1. K-NN"
      ]
    },
    {
      "cell_type": "code",
      "metadata": {
        "id": "OPQdMca6OI-t",
        "colab_type": "code",
        "colab": {
          "base_uri": "https://localhost:8080/",
          "height": 313
        },
        "outputId": "4707b74d-6a78-49dc-f64c-7dd360fa24cb"
      },
      "source": [
        "# Representación gráfica de los datos.\n",
        "x = datos_normalizados['Temperatura'].values\n",
        "y = datos_normalizados['ica_parcial'].values\n",
        "plt.xlabel('Temperatura')\n",
        "plt.ylabel('ica_parcial')\n",
        "plt.title('Temperatura vs. ica_parcial')\n",
        "plt.plot(x,y,'o',markersize=1)"
      ],
      "execution_count": null,
      "outputs": [
        {
          "output_type": "execute_result",
          "data": {
            "text/plain": [
              "[<matplotlib.lines.Line2D at 0x7fc2804bde48>]"
            ]
          },
          "metadata": {
            "tags": []
          },
          "execution_count": 48
        },
        {
          "output_type": "display_data",
          "data": {
            "image/png": "[encoded data removed]",
            "text/plain": [
              "<Figure size 432x288 with 1 Axes>"
            ]
          },
          "metadata": {
            "tags": [],
            "needs_background": "light"
          }
        }
      ]
    },
    {
      "cell_type": "code",
      "metadata": {
        "id": "ed-ldgXiVYig",
        "colab_type": "code",
        "colab": {}
      },
      "source": [
        "knMod = KNeighborsClassifier(n_neighbors=5, weights='uniform', algorithm='auto', leaf_size=30, p=2,\n",
        "                             metric='minkowski', metric_params=None)"
      ],
      "execution_count": null,
      "outputs": []
    },
    {
      "cell_type": "code",
      "metadata": {
        "id": "7dzdCMEUVcau",
        "colab_type": "code",
        "colab": {
          "base_uri": "https://localhost:8080/",
          "height": 34
        },
        "outputId": "684ea5bb-495e-412d-9a8c-2801b900e4e0"
      },
      "source": [
        "knMod.fit(X_train, y_train)\n",
        "knMod.score(X_test, y_test)"
      ],
      "execution_count": null,
      "outputs": [
        {
          "output_type": "execute_result",
          "data": {
            "text/plain": [
              "0.9963227144105259"
            ]
          },
          "metadata": {
            "tags": []
          },
          "execution_count": 50
        }
      ]
    },
    {
      "cell_type": "markdown",
      "metadata": {
        "id": "0byEw199SvW6",
        "colab_type": "text"
      },
      "source": [
        "## 2. Regresión Logística"
      ]
    },
    {
      "cell_type": "code",
      "metadata": {
        "id": "WqaTtMlNRSOJ",
        "colab_type": "code",
        "colab": {}
      },
      "source": [
        "glmMod = LogisticRegression(penalty='l1', dual=False, tol=0.0001, C=1.0, fit_intercept=True,\n",
        "                            intercept_scaling=1, class_weight=None, \n",
        "                            random_state=None, solver='liblinear', max_iter=100,\n",
        "                            multi_class='ovr', verbose=2)"
      ],
      "execution_count": null,
      "outputs": []
    },
    {
      "cell_type": "code",
      "metadata": {
        "id": "FCMB9yU6S8oe",
        "colab_type": "code",
        "colab": {
          "base_uri": "https://localhost:8080/",
          "height": 34
        },
        "outputId": "3f64cfd8-4540-4d56-c821-9a07d20c005a"
      },
      "source": [
        "glmMod.fit(X_train, y_train)\n",
        "glmMod.score(X_test, y_test)"
      ],
      "execution_count": null,
      "outputs": [
        {
          "output_type": "stream",
          "text": [
            "[LibLinear]"
          ],
          "name": "stdout"
        },
        {
          "output_type": "execute_result",
          "data": {
            "text/plain": [
              "0.9998565597819709"
            ]
          },
          "metadata": {
            "tags": []
          },
          "execution_count": 52
        }
      ]
    },
    {
      "cell_type": "code",
      "metadata": {
        "id": "gaMMT-SrS_lt",
        "colab_type": "code",
        "colab": {
          "base_uri": "https://localhost:8080/",
          "height": 34
        },
        "outputId": "1a7d98bd-993d-4b41-f6d9-81cc440eb179"
      },
      "source": [
        "test_labels=glmMod.predict_proba(np.array(X_test.values))[:,1]\n",
        "roc_auc_score(y_test,test_labels , average='macro', sample_weight=None)"
      ],
      "execution_count": null,
      "outputs": [
        {
          "output_type": "execute_result",
          "data": {
            "text/plain": [
              "0.9999998751893564"
            ]
          },
          "metadata": {
            "tags": []
          },
          "execution_count": 54
        }
      ]
    },
    {
      "cell_type": "markdown",
      "metadata": {
        "id": "fY9AaKhQTVf4",
        "colab_type": "text"
      },
      "source": [
        "## 3. AdaBoost"
      ]
    },
    {
      "cell_type": "code",
      "metadata": {
        "id": "vjHUu-9ZTdae",
        "colab_type": "code",
        "colab": {}
      },
      "source": [
        "adaMod = AdaBoostClassifier(base_estimator=None, n_estimators=200, learning_rate=1.0)"
      ],
      "execution_count": null,
      "outputs": []
    },
    {
      "cell_type": "code",
      "metadata": {
        "id": "_HrGCnntThqM",
        "colab_type": "code",
        "colab": {
          "base_uri": "https://localhost:8080/",
          "height": 34
        },
        "outputId": "880fee9f-a7c7-45ce-de6e-7bd18e5c5469"
      },
      "source": [
        "adaMod.fit(X_train, y_train)\n",
        "adaMod.score(X_test, y_test)"
      ],
      "execution_count": null,
      "outputs": [
        {
          "output_type": "execute_result",
          "data": {
            "text/plain": [
              "1.0"
            ]
          },
          "metadata": {
            "tags": []
          },
          "execution_count": 56
        }
      ]
    },
    {
      "cell_type": "code",
      "metadata": {
        "id": "qfSc2YyMTjkQ",
        "colab_type": "code",
        "colab": {
          "base_uri": "https://localhost:8080/",
          "height": 34
        },
        "outputId": "11b65ab6-208f-4e8c-9e3a-2e86c5bd93da"
      },
      "source": [
        "test_labels=adaMod.predict_proba(np.array(X_test.values))[:,1]\n",
        "roc_auc_score(y_test,test_labels , average='macro', sample_weight=None)"
      ],
      "execution_count": null,
      "outputs": [
        {
          "output_type": "execute_result",
          "data": {
            "text/plain": [
              "1.0"
            ]
          },
          "metadata": {
            "tags": []
          },
          "execution_count": 57
        }
      ]
    },
    {
      "cell_type": "markdown",
      "metadata": {
        "id": "nR_cVrXHTo_1",
        "colab_type": "text"
      },
      "source": [
        "## 4. GradientBoosting"
      ]
    },
    {
      "cell_type": "code",
      "metadata": {
        "id": "JaiIabLeTqht",
        "colab_type": "code",
        "colab": {}
      },
      "source": [
        "gbMod = GradientBoostingClassifier(loss='deviance', learning_rate=0.1, n_estimators=200, subsample=1.0,\n",
        "                                   min_samples_split=2, min_samples_leaf=1, min_weight_fraction_leaf=0.0, \n",
        "                                   max_depth=3,\n",
        "                                   init=None, random_state=None, max_features=None, verbose=0)"
      ],
      "execution_count": null,
      "outputs": []
    },
    {
      "cell_type": "code",
      "metadata": {
        "id": "dFpze21eTssf",
        "colab_type": "code",
        "colab": {
          "base_uri": "https://localhost:8080/",
          "height": 34
        },
        "outputId": "52e8cce4-5967-4dec-a830-38c15347063b"
      },
      "source": [
        "gbMod.fit(X_train, y_train)\n",
        "gbMod.score(X_test, y_test)"
      ],
      "execution_count": null,
      "outputs": [
        {
          "output_type": "execute_result",
          "data": {
            "text/plain": [
              "1.0"
            ]
          },
          "metadata": {
            "tags": []
          },
          "execution_count": 59
        }
      ]
    },
    {
      "cell_type": "code",
      "metadata": {
        "id": "8vxltoXTTwpl",
        "colab_type": "code",
        "colab": {
          "base_uri": "https://localhost:8080/",
          "height": 34
        },
        "outputId": "11100ece-1a8c-40f2-8792-ae07229b1dcc"
      },
      "source": [
        "test_labels=gbMod.predict_proba(np.array(X_test.values))[:,1]\n",
        "roc_auc_score(y_test,test_labels , average='macro', sample_weight=None)"
      ],
      "execution_count": null,
      "outputs": [
        {
          "output_type": "execute_result",
          "data": {
            "text/plain": [
              "1.0"
            ]
          },
          "metadata": {
            "tags": []
          },
          "execution_count": 60
        }
      ]
    },
    {
      "cell_type": "markdown",
      "metadata": {
        "id": "b7__Ic6kT11a",
        "colab_type": "text"
      },
      "source": [
        "## 5. RandomForest"
      ]
    },
    {
      "cell_type": "code",
      "metadata": {
        "id": "mqi85-dUTysY",
        "colab_type": "code",
        "colab": {}
      },
      "source": [
        "rfMod = RandomForestClassifier(n_estimators=10, criterion='gini', max_depth=None, min_samples_split=2,\n",
        "                               min_samples_leaf=1, min_weight_fraction_leaf=0.0, max_features='auto',\n",
        "                               max_leaf_nodes=None, bootstrap=True, oob_score=False, n_jobs=1, \n",
        "                               random_state=None, verbose=0)"
      ],
      "execution_count": null,
      "outputs": []
    },
    {
      "cell_type": "code",
      "metadata": {
        "id": "c7W-VTGnT4-H",
        "colab_type": "code",
        "colab": {
          "base_uri": "https://localhost:8080/",
          "height": 34
        },
        "outputId": "0d4e9ad1-1346-4e67-cd0c-7e4d8e1dfef4"
      },
      "source": [
        "rfMod.fit(X_train, y_train)\n",
        "rfMod.score(X_test, y_test)"
      ],
      "execution_count": null,
      "outputs": [
        {
          "output_type": "execute_result",
          "data": {
            "text/plain": [
              "0.9999869599801792"
            ]
          },
          "metadata": {
            "tags": []
          },
          "execution_count": 63
        }
      ]
    },
    {
      "cell_type": "code",
      "metadata": {
        "id": "5iVFtd5nT9J-",
        "colab_type": "code",
        "colab": {
          "base_uri": "https://localhost:8080/",
          "height": 34
        },
        "outputId": "aee346fe-0fd4-47b8-ea82-23d73f1776fd"
      },
      "source": [
        "test_labels=rfMod.predict_proba(np.array(X_test.values))[:,1]\n",
        "roc_auc_score(y_test,test_labels , average='macro', sample_weight=None)"
      ],
      "execution_count": null,
      "outputs": [
        {
          "output_type": "execute_result",
          "data": {
            "text/plain": [
              "1.0"
            ]
          },
          "metadata": {
            "tags": []
          },
          "execution_count": 64
        }
      ]
    }
  ]
}